{
 "cells": [
  {
   "cell_type": "code",
   "execution_count": 1,
   "metadata": {},
   "outputs": [],
   "source": [
    "# Load packages\n",
    "import numpy as np\n",
    "import pandas as pd\n",
    "import torch\n",
    "from torch import nn, optim\n",
    "from torch.utils.data import DataLoader\n",
    "from sklearn.preprocessing import StandardScaler, MinMaxScaler\n",
    "from category_encoders import OrdinalEncoder, OneHotEncoder, TargetEncoder\n",
    "from sklearn.impute import SimpleImputer\n",
    "from pathlib import Path\n",
    "import shared_functions as sf"
   ]
  },
  {
   "cell_type": "code",
   "execution_count": 2,
   "metadata": {},
   "outputs": [],
   "source": [
    "# Define model & file name\n",
    "model_name = 'MLPModel_BatchNorm'\n",
    "file_name = 'property-sales_new-york-city_2022_pre-processed'"
   ]
  },
  {
   "cell_type": "code",
   "execution_count": 3,
   "metadata": {},
   "outputs": [],
   "source": [
    "# Create output directory for exports\n",
    "Path(f'../models/{model_name}').mkdir(parents=True, exist_ok=True)"
   ]
  },
  {
   "cell_type": "code",
   "execution_count": 4,
   "metadata": {},
   "outputs": [],
   "source": [
    "# Load subset keys as list\n",
    "subset_keys = pd.read_csv(f'../data/processed/subset_keys.csv').squeeze().to_list()"
   ]
  },
  {
   "cell_type": "code",
   "execution_count": 5,
   "metadata": {},
   "outputs": [],
   "source": [
    "# Load subset index as series\n",
    "subset_index = pd.read_csv(f'../data/processed/subset_index.csv', index_col=0)"
   ]
  },
  {
   "cell_type": "code",
   "execution_count": 6,
   "metadata": {},
   "outputs": [
    {
     "name": "stdout",
     "output_type": "stream",
     "text": [
      "Device type: CPU\n"
     ]
    }
   ],
   "source": [
    "# Use GPU when possible\n",
    "device = torch.device('cuda' if torch.cuda.is_available() else 'cpu').type\n",
    "print(f'Device type: {device.upper()}')"
   ]
  },
  {
   "cell_type": "code",
   "execution_count": 7,
   "metadata": {},
   "outputs": [],
   "source": [
    "# Set random seed\n",
    "seed = 42\n",
    "np.random.seed(seed)\n",
    "torch.manual_seed(seed)\n",
    "torch.cuda.manual_seed(seed)"
   ]
  },
  {
   "cell_type": "code",
   "execution_count": 8,
   "metadata": {},
   "outputs": [],
   "source": [
    "dataset_params = {\n",
    "    'data': f'../data/processed/{file_name}.parquet',\n",
    "    'target_name': 'sale_price',\n",
    "    'to_drop': 'sale_price_adj',\n",
    "    'subset_index': '../data/processed/subset_index.csv',\n",
    "    'input_scaler': StandardScaler(),\n",
    "    'target_scaler': None,\n",
    "    'categorical_encoder': TargetEncoder(),\n",
    "    'numerical_imputer': SimpleImputer(missing_values=pd.NA, strategy='mean'),\n",
    "    'data_overview': f'../data/processed/{file_name}_data-overview.csv'\n",
    "    }"
   ]
  },
  {
   "cell_type": "code",
   "execution_count": 9,
   "metadata": {},
   "outputs": [],
   "source": [
    "# Instantiate datasets\n",
    "subsets = {subset_key: sf.MultiModalDataset(**dataset_params, subset=subset_key) for subset_key in subset_keys}\n",
    "dataset = sf.MultiModalDataset(**dataset_params)"
   ]
  },
  {
   "cell_type": "code",
   "execution_count": 10,
   "metadata": {},
   "outputs": [],
   "source": [
    "# Define model architecture\n",
    "class MLPModel_BatchNorm(nn.Module):\n",
    "    # Define model components\n",
    "    def __init__(self):\n",
    "        super().__init__()\n",
    "\n",
    "        # Define text model\n",
    "        self.TextModel = nn.Sequential(\n",
    "            nn.Linear(dataset.X_text.shape[1], 32),\n",
    "            nn.ReLU(),\n",
    "            nn.BatchNorm1d(32),\n",
    "            nn.Linear(32, 64),\n",
    "            nn.ReLU(),\n",
    "            nn.BatchNorm1d(64),\n",
    "            nn.Linear(64, 32),\n",
    "            nn.ReLU(),\n",
    "            nn.BatchNorm1d(32),\n",
    "            nn.Linear(32, 1)\n",
    "            )\n",
    "\n",
    "    # Define forward pass\n",
    "    def forward(self, X_text):\n",
    "        y = self.TextModel(X_text)\n",
    "        return y"
   ]
  },
  {
   "cell_type": "code",
   "execution_count": 11,
   "metadata": {},
   "outputs": [],
   "source": [
    "# Instantiate model\n",
    "model = MLPModel_BatchNorm().to(device)"
   ]
  },
  {
   "cell_type": "code",
   "execution_count": 12,
   "metadata": {},
   "outputs": [
    {
     "name": "stdout",
     "output_type": "stream",
     "text": [
      "# model paramters: 5313\n"
     ]
    }
   ],
   "source": [
    "# Calculate number of model parameters\n",
    "n_params = sum(parameter.numel() for parameter in model.parameters())\n",
    "print(f'# model paramters: {n_params}')"
   ]
  },
  {
   "cell_type": "code",
   "execution_count": 13,
   "metadata": {},
   "outputs": [
    {
     "name": "stderr",
     "output_type": "stream",
     "text": [
      "100%|██████████| 646/646 [00:01<00:00, 499.20it/s]\n"
     ]
    },
    {
     "name": "stdout",
     "output_type": "stream",
     "text": [
      "Epoch   1/200: RMSE_train: 1,734,310, RMSE_val: 1,738,842\n"
     ]
    },
    {
     "name": "stderr",
     "output_type": "stream",
     "text": [
      "100%|██████████| 646/646 [00:01<00:00, 459.32it/s]\n"
     ]
    },
    {
     "name": "stdout",
     "output_type": "stream",
     "text": [
      "Epoch   2/200: RMSE_train: 1,734,326, RMSE_val: 1,732,986\n"
     ]
    },
    {
     "name": "stderr",
     "output_type": "stream",
     "text": [
      "100%|██████████| 646/646 [00:01<00:00, 498.94it/s]\n"
     ]
    },
    {
     "name": "stdout",
     "output_type": "stream",
     "text": [
      "Epoch   3/200: RMSE_train: 1,734,142, RMSE_val: 1,732,717\n"
     ]
    },
    {
     "name": "stderr",
     "output_type": "stream",
     "text": [
      "100%|██████████| 646/646 [00:01<00:00, 511.16it/s]\n"
     ]
    },
    {
     "name": "stdout",
     "output_type": "stream",
     "text": [
      "Epoch   4/200: RMSE_train: 1,733,963, RMSE_val: 1,740,302\n",
      "EarlyStopping counter: 1 out of 200\n"
     ]
    },
    {
     "name": "stderr",
     "output_type": "stream",
     "text": [
      "100%|██████████| 646/646 [00:01<00:00, 509.35it/s]\n"
     ]
    },
    {
     "name": "stdout",
     "output_type": "stream",
     "text": [
      "Epoch   5/200: RMSE_train: 1,733,632, RMSE_val: 1,738,641\n",
      "EarlyStopping counter: 2 out of 200\n"
     ]
    },
    {
     "name": "stderr",
     "output_type": "stream",
     "text": [
      "100%|██████████| 646/646 [00:01<00:00, 507.58it/s]\n"
     ]
    },
    {
     "name": "stdout",
     "output_type": "stream",
     "text": [
      "Epoch   6/200: RMSE_train: 1,733,521, RMSE_val: 1,726,177\n"
     ]
    },
    {
     "name": "stderr",
     "output_type": "stream",
     "text": [
      "100%|██████████| 646/646 [00:01<00:00, 510.91it/s]\n"
     ]
    },
    {
     "name": "stdout",
     "output_type": "stream",
     "text": [
      "Epoch   7/200: RMSE_train: 1,733,026, RMSE_val: 1,737,256\n",
      "EarlyStopping counter: 1 out of 200\n"
     ]
    },
    {
     "name": "stderr",
     "output_type": "stream",
     "text": [
      "100%|██████████| 646/646 [00:01<00:00, 513.90it/s]\n"
     ]
    },
    {
     "name": "stdout",
     "output_type": "stream",
     "text": [
      "Epoch   8/200: RMSE_train: 1,732,654, RMSE_val: 1,735,135\n",
      "EarlyStopping counter: 2 out of 200\n"
     ]
    },
    {
     "name": "stderr",
     "output_type": "stream",
     "text": [
      "100%|██████████| 646/646 [00:01<00:00, 494.24it/s]\n"
     ]
    },
    {
     "name": "stdout",
     "output_type": "stream",
     "text": [
      "Epoch   9/200: RMSE_train: 1,732,187, RMSE_val: 1,724,888\n"
     ]
    },
    {
     "name": "stderr",
     "output_type": "stream",
     "text": [
      "100%|██████████| 646/646 [00:01<00:00, 462.05it/s]\n"
     ]
    },
    {
     "name": "stdout",
     "output_type": "stream",
     "text": [
      "Epoch  10/200: RMSE_train: 1,731,795, RMSE_val: 1,727,200\n",
      "EarlyStopping counter: 1 out of 200\n"
     ]
    },
    {
     "name": "stderr",
     "output_type": "stream",
     "text": [
      "100%|██████████| 646/646 [00:01<00:00, 509.45it/s]\n"
     ]
    },
    {
     "name": "stdout",
     "output_type": "stream",
     "text": [
      "Epoch  11/200: RMSE_train: 1,731,124, RMSE_val: 1,727,369\n",
      "EarlyStopping counter: 2 out of 200\n"
     ]
    },
    {
     "name": "stderr",
     "output_type": "stream",
     "text": [
      "100%|██████████| 646/646 [00:01<00:00, 519.25it/s]\n"
     ]
    },
    {
     "name": "stdout",
     "output_type": "stream",
     "text": [
      "Epoch  12/200: RMSE_train: 1,730,496, RMSE_val: 1,727,629\n",
      "EarlyStopping counter: 3 out of 200\n"
     ]
    },
    {
     "name": "stderr",
     "output_type": "stream",
     "text": [
      "100%|██████████| 646/646 [00:01<00:00, 518.81it/s]\n"
     ]
    },
    {
     "name": "stdout",
     "output_type": "stream",
     "text": [
      "Epoch  13/200: RMSE_train: 1,729,964, RMSE_val: 1,720,945\n"
     ]
    },
    {
     "name": "stderr",
     "output_type": "stream",
     "text": [
      "100%|██████████| 646/646 [00:01<00:00, 507.59it/s]\n"
     ]
    },
    {
     "name": "stdout",
     "output_type": "stream",
     "text": [
      "Epoch  14/200: RMSE_train: 1,729,261, RMSE_val: 1,723,921\n",
      "EarlyStopping counter: 1 out of 200\n"
     ]
    },
    {
     "name": "stderr",
     "output_type": "stream",
     "text": [
      "100%|██████████| 646/646 [00:01<00:00, 493.74it/s]\n"
     ]
    },
    {
     "name": "stdout",
     "output_type": "stream",
     "text": [
      "Epoch  15/200: RMSE_train: 1,728,584, RMSE_val: 1,728,099\n",
      "EarlyStopping counter: 2 out of 200\n"
     ]
    },
    {
     "name": "stderr",
     "output_type": "stream",
     "text": [
      "100%|██████████| 646/646 [00:01<00:00, 493.40it/s]\n"
     ]
    },
    {
     "name": "stdout",
     "output_type": "stream",
     "text": [
      "Epoch  16/200: RMSE_train: 1,727,865, RMSE_val: 1,726,638\n",
      "EarlyStopping counter: 3 out of 200\n"
     ]
    },
    {
     "name": "stderr",
     "output_type": "stream",
     "text": [
      "100%|██████████| 646/646 [00:01<00:00, 494.36it/s]\n"
     ]
    },
    {
     "name": "stdout",
     "output_type": "stream",
     "text": [
      "Epoch  17/200: RMSE_train: 1,727,085, RMSE_val: 1,723,745\n",
      "EarlyStopping counter: 4 out of 200\n"
     ]
    },
    {
     "name": "stderr",
     "output_type": "stream",
     "text": [
      "100%|██████████| 646/646 [00:01<00:00, 512.76it/s]\n"
     ]
    },
    {
     "name": "stdout",
     "output_type": "stream",
     "text": [
      "Epoch  18/200: RMSE_train: 1,726,374, RMSE_val: 1,719,230\n"
     ]
    },
    {
     "name": "stderr",
     "output_type": "stream",
     "text": [
      "100%|██████████| 646/646 [00:01<00:00, 507.29it/s]\n"
     ]
    },
    {
     "name": "stdout",
     "output_type": "stream",
     "text": [
      "Epoch  19/200: RMSE_train: 1,725,388, RMSE_val: 1,725,160\n",
      "EarlyStopping counter: 1 out of 200\n"
     ]
    },
    {
     "name": "stderr",
     "output_type": "stream",
     "text": [
      "100%|██████████| 646/646 [00:01<00:00, 488.40it/s]\n"
     ]
    },
    {
     "name": "stdout",
     "output_type": "stream",
     "text": [
      "Epoch  20/200: RMSE_train: 1,724,751, RMSE_val: 1,719,548\n",
      "EarlyStopping counter: 2 out of 200\n"
     ]
    },
    {
     "name": "stderr",
     "output_type": "stream",
     "text": [
      "100%|██████████| 646/646 [00:01<00:00, 503.06it/s]\n"
     ]
    },
    {
     "name": "stdout",
     "output_type": "stream",
     "text": [
      "Epoch  21/200: RMSE_train: 1,723,797, RMSE_val: 1,725,903\n",
      "EarlyStopping counter: 3 out of 200\n"
     ]
    },
    {
     "name": "stderr",
     "output_type": "stream",
     "text": [
      "100%|██████████| 646/646 [00:01<00:00, 505.29it/s]\n"
     ]
    },
    {
     "name": "stdout",
     "output_type": "stream",
     "text": [
      "Epoch  22/200: RMSE_train: 1,722,908, RMSE_val: 1,722,474\n",
      "EarlyStopping counter: 4 out of 200\n"
     ]
    },
    {
     "name": "stderr",
     "output_type": "stream",
     "text": [
      "100%|██████████| 646/646 [00:01<00:00, 517.95it/s]\n"
     ]
    },
    {
     "name": "stdout",
     "output_type": "stream",
     "text": [
      "Epoch  23/200: RMSE_train: 1,721,758, RMSE_val: 1,718,715\n"
     ]
    },
    {
     "name": "stderr",
     "output_type": "stream",
     "text": [
      "100%|██████████| 646/646 [00:01<00:00, 516.58it/s]\n"
     ]
    },
    {
     "name": "stdout",
     "output_type": "stream",
     "text": [
      "Epoch  24/200: RMSE_train: 1,720,717, RMSE_val: 1,720,726\n",
      "EarlyStopping counter: 1 out of 200\n"
     ]
    },
    {
     "name": "stderr",
     "output_type": "stream",
     "text": [
      "100%|██████████| 646/646 [00:01<00:00, 507.49it/s]\n"
     ]
    },
    {
     "name": "stdout",
     "output_type": "stream",
     "text": [
      "Epoch  25/200: RMSE_train: 1,719,856, RMSE_val: 1,723,077\n",
      "EarlyStopping counter: 2 out of 200\n"
     ]
    },
    {
     "name": "stderr",
     "output_type": "stream",
     "text": [
      "100%|██████████| 646/646 [00:01<00:00, 507.28it/s]\n"
     ]
    },
    {
     "name": "stdout",
     "output_type": "stream",
     "text": [
      "Epoch  26/200: RMSE_train: 1,718,692, RMSE_val: 1,729,469\n",
      "EarlyStopping counter: 3 out of 200\n"
     ]
    },
    {
     "name": "stderr",
     "output_type": "stream",
     "text": [
      "100%|██████████| 646/646 [00:01<00:00, 511.19it/s]\n"
     ]
    },
    {
     "name": "stdout",
     "output_type": "stream",
     "text": [
      "Epoch  27/200: RMSE_train: 1,717,461, RMSE_val: 1,711,975\n"
     ]
    },
    {
     "name": "stderr",
     "output_type": "stream",
     "text": [
      "100%|██████████| 646/646 [00:01<00:00, 517.92it/s]\n"
     ]
    },
    {
     "name": "stdout",
     "output_type": "stream",
     "text": [
      "Epoch  28/200: RMSE_train: 1,716,357, RMSE_val: 1,718,057\n",
      "EarlyStopping counter: 1 out of 200\n"
     ]
    },
    {
     "name": "stderr",
     "output_type": "stream",
     "text": [
      "100%|██████████| 646/646 [00:01<00:00, 511.22it/s]\n"
     ]
    },
    {
     "name": "stdout",
     "output_type": "stream",
     "text": [
      "Epoch  29/200: RMSE_train: 1,715,188, RMSE_val: 1,720,795\n",
      "EarlyStopping counter: 2 out of 200\n"
     ]
    },
    {
     "name": "stderr",
     "output_type": "stream",
     "text": [
      "100%|██████████| 646/646 [00:01<00:00, 488.59it/s]\n"
     ]
    },
    {
     "name": "stdout",
     "output_type": "stream",
     "text": [
      "Epoch  30/200: RMSE_train: 1,714,152, RMSE_val: 1,713,023\n",
      "EarlyStopping counter: 3 out of 200\n"
     ]
    },
    {
     "name": "stderr",
     "output_type": "stream",
     "text": [
      "100%|██████████| 646/646 [00:01<00:00, 523.36it/s]\n"
     ]
    },
    {
     "name": "stdout",
     "output_type": "stream",
     "text": [
      "Epoch  31/200: RMSE_train: 1,712,658, RMSE_val: 1,722,323\n",
      "EarlyStopping counter: 4 out of 200\n"
     ]
    },
    {
     "name": "stderr",
     "output_type": "stream",
     "text": [
      "100%|██████████| 646/646 [00:01<00:00, 505.69it/s]\n"
     ]
    },
    {
     "name": "stdout",
     "output_type": "stream",
     "text": [
      "Epoch  32/200: RMSE_train: 1,711,356, RMSE_val: 1,711,031\n"
     ]
    },
    {
     "name": "stderr",
     "output_type": "stream",
     "text": [
      "100%|██████████| 646/646 [00:01<00:00, 517.47it/s]\n"
     ]
    },
    {
     "name": "stdout",
     "output_type": "stream",
     "text": [
      "Epoch  33/200: RMSE_train: 1,710,106, RMSE_val: 1,716,408\n",
      "EarlyStopping counter: 1 out of 200\n"
     ]
    },
    {
     "name": "stderr",
     "output_type": "stream",
     "text": [
      "100%|██████████| 646/646 [00:01<00:00, 506.45it/s]\n"
     ]
    },
    {
     "name": "stdout",
     "output_type": "stream",
     "text": [
      "Epoch  34/200: RMSE_train: 1,708,637, RMSE_val: 1,715,848\n",
      "EarlyStopping counter: 2 out of 200\n"
     ]
    },
    {
     "name": "stderr",
     "output_type": "stream",
     "text": [
      "100%|██████████| 646/646 [00:01<00:00, 517.26it/s]\n"
     ]
    },
    {
     "name": "stdout",
     "output_type": "stream",
     "text": [
      "Epoch  35/200: RMSE_train: 1,707,243, RMSE_val: 1,705,282\n"
     ]
    },
    {
     "name": "stderr",
     "output_type": "stream",
     "text": [
      "100%|██████████| 646/646 [00:01<00:00, 523.47it/s]\n"
     ]
    },
    {
     "name": "stdout",
     "output_type": "stream",
     "text": [
      "Epoch  36/200: RMSE_train: 1,705,757, RMSE_val: 1,705,985\n",
      "EarlyStopping counter: 1 out of 200\n"
     ]
    },
    {
     "name": "stderr",
     "output_type": "stream",
     "text": [
      "100%|██████████| 646/646 [00:01<00:00, 517.33it/s]\n"
     ]
    },
    {
     "name": "stdout",
     "output_type": "stream",
     "text": [
      "Epoch  37/200: RMSE_train: 1,704,259, RMSE_val: 1,706,608\n",
      "EarlyStopping counter: 2 out of 200\n"
     ]
    },
    {
     "name": "stderr",
     "output_type": "stream",
     "text": [
      "100%|██████████| 646/646 [00:01<00:00, 527.90it/s]\n"
     ]
    },
    {
     "name": "stdout",
     "output_type": "stream",
     "text": [
      "Epoch  38/200: RMSE_train: 1,702,978, RMSE_val: 1,705,793\n",
      "EarlyStopping counter: 3 out of 200\n"
     ]
    },
    {
     "name": "stderr",
     "output_type": "stream",
     "text": [
      "100%|██████████| 646/646 [00:01<00:00, 523.03it/s]\n"
     ]
    },
    {
     "name": "stdout",
     "output_type": "stream",
     "text": [
      "Epoch  39/200: RMSE_train: 1,701,321, RMSE_val: 1,704,292\n"
     ]
    },
    {
     "name": "stderr",
     "output_type": "stream",
     "text": [
      "100%|██████████| 646/646 [00:01<00:00, 508.42it/s]\n"
     ]
    },
    {
     "name": "stdout",
     "output_type": "stream",
     "text": [
      "Epoch  40/200: RMSE_train: 1,699,694, RMSE_val: 1,702,788\n"
     ]
    },
    {
     "name": "stderr",
     "output_type": "stream",
     "text": [
      "100%|██████████| 646/646 [00:01<00:00, 515.24it/s]\n"
     ]
    },
    {
     "name": "stdout",
     "output_type": "stream",
     "text": [
      "Epoch  41/200: RMSE_train: 1,698,070, RMSE_val: 1,703,224\n",
      "EarlyStopping counter: 1 out of 200\n"
     ]
    },
    {
     "name": "stderr",
     "output_type": "stream",
     "text": [
      "100%|██████████| 646/646 [00:01<00:00, 476.47it/s]\n"
     ]
    },
    {
     "name": "stdout",
     "output_type": "stream",
     "text": [
      "Epoch  42/200: RMSE_train: 1,696,458, RMSE_val: 1,700,109\n"
     ]
    },
    {
     "name": "stderr",
     "output_type": "stream",
     "text": [
      "100%|██████████| 646/646 [00:01<00:00, 494.87it/s]\n"
     ]
    },
    {
     "name": "stdout",
     "output_type": "stream",
     "text": [
      "Epoch  43/200: RMSE_train: 1,694,916, RMSE_val: 1,702,113\n",
      "EarlyStopping counter: 1 out of 200\n"
     ]
    },
    {
     "name": "stderr",
     "output_type": "stream",
     "text": [
      "100%|██████████| 646/646 [00:01<00:00, 517.17it/s]\n"
     ]
    },
    {
     "name": "stdout",
     "output_type": "stream",
     "text": [
      "Epoch  44/200: RMSE_train: 1,693,270, RMSE_val: 1,702,753\n",
      "EarlyStopping counter: 2 out of 200\n"
     ]
    },
    {
     "name": "stderr",
     "output_type": "stream",
     "text": [
      "100%|██████████| 646/646 [00:01<00:00, 514.88it/s]\n"
     ]
    },
    {
     "name": "stdout",
     "output_type": "stream",
     "text": [
      "Epoch  45/200: RMSE_train: 1,691,385, RMSE_val: 1,704,883\n",
      "EarlyStopping counter: 3 out of 200\n"
     ]
    },
    {
     "name": "stderr",
     "output_type": "stream",
     "text": [
      "100%|██████████| 646/646 [00:01<00:00, 518.79it/s]\n"
     ]
    },
    {
     "name": "stdout",
     "output_type": "stream",
     "text": [
      "Epoch  46/200: RMSE_train: 1,689,475, RMSE_val: 1,695,349\n"
     ]
    },
    {
     "name": "stderr",
     "output_type": "stream",
     "text": [
      "100%|██████████| 646/646 [00:01<00:00, 523.77it/s]\n"
     ]
    },
    {
     "name": "stdout",
     "output_type": "stream",
     "text": [
      "Epoch  47/200: RMSE_train: 1,687,630, RMSE_val: 1,697,170\n",
      "EarlyStopping counter: 1 out of 200\n"
     ]
    },
    {
     "name": "stderr",
     "output_type": "stream",
     "text": [
      "100%|██████████| 646/646 [00:01<00:00, 524.00it/s]\n"
     ]
    },
    {
     "name": "stdout",
     "output_type": "stream",
     "text": [
      "Epoch  48/200: RMSE_train: 1,685,909, RMSE_val: 1,697,643\n",
      "EarlyStopping counter: 2 out of 200\n"
     ]
    },
    {
     "name": "stderr",
     "output_type": "stream",
     "text": [
      "100%|██████████| 646/646 [00:01<00:00, 511.17it/s]\n"
     ]
    },
    {
     "name": "stdout",
     "output_type": "stream",
     "text": [
      "Epoch  49/200: RMSE_train: 1,683,929, RMSE_val: 1,687,589\n"
     ]
    },
    {
     "name": "stderr",
     "output_type": "stream",
     "text": [
      "100%|██████████| 646/646 [00:01<00:00, 515.06it/s]\n"
     ]
    },
    {
     "name": "stdout",
     "output_type": "stream",
     "text": [
      "Epoch  50/200: RMSE_train: 1,681,840, RMSE_val: 1,694,751\n",
      "EarlyStopping counter: 1 out of 200\n"
     ]
    },
    {
     "name": "stderr",
     "output_type": "stream",
     "text": [
      "100%|██████████| 646/646 [00:01<00:00, 520.24it/s]\n"
     ]
    },
    {
     "name": "stdout",
     "output_type": "stream",
     "text": [
      "Epoch  51/200: RMSE_train: 1,680,050, RMSE_val: 1,700,597\n",
      "EarlyStopping counter: 2 out of 200\n"
     ]
    },
    {
     "name": "stderr",
     "output_type": "stream",
     "text": [
      "100%|██████████| 646/646 [00:01<00:00, 528.56it/s]\n"
     ]
    },
    {
     "name": "stdout",
     "output_type": "stream",
     "text": [
      "Epoch  52/200: RMSE_train: 1,677,868, RMSE_val: 1,699,249\n",
      "EarlyStopping counter: 3 out of 200\n"
     ]
    },
    {
     "name": "stderr",
     "output_type": "stream",
     "text": [
      "100%|██████████| 646/646 [00:01<00:00, 498.92it/s]\n"
     ]
    },
    {
     "name": "stdout",
     "output_type": "stream",
     "text": [
      "Epoch  53/200: RMSE_train: 1,675,984, RMSE_val: 1,683,446\n"
     ]
    },
    {
     "name": "stderr",
     "output_type": "stream",
     "text": [
      "100%|██████████| 646/646 [00:01<00:00, 521.03it/s]\n"
     ]
    },
    {
     "name": "stdout",
     "output_type": "stream",
     "text": [
      "Epoch  54/200: RMSE_train: 1,673,656, RMSE_val: 1,688,889\n",
      "EarlyStopping counter: 1 out of 200\n"
     ]
    },
    {
     "name": "stderr",
     "output_type": "stream",
     "text": [
      "100%|██████████| 646/646 [00:01<00:00, 524.42it/s]\n"
     ]
    },
    {
     "name": "stdout",
     "output_type": "stream",
     "text": [
      "Epoch  55/200: RMSE_train: 1,671,754, RMSE_val: 1,687,745\n",
      "EarlyStopping counter: 2 out of 200\n"
     ]
    },
    {
     "name": "stderr",
     "output_type": "stream",
     "text": [
      "100%|██████████| 646/646 [00:01<00:00, 529.61it/s]\n"
     ]
    },
    {
     "name": "stdout",
     "output_type": "stream",
     "text": [
      "Epoch  56/200: RMSE_train: 1,669,675, RMSE_val: 1,681,469\n"
     ]
    },
    {
     "name": "stderr",
     "output_type": "stream",
     "text": [
      "100%|██████████| 646/646 [00:01<00:00, 521.60it/s]\n"
     ]
    },
    {
     "name": "stdout",
     "output_type": "stream",
     "text": [
      "Epoch  57/200: RMSE_train: 1,667,406, RMSE_val: 1,678,195\n"
     ]
    },
    {
     "name": "stderr",
     "output_type": "stream",
     "text": [
      "100%|██████████| 646/646 [00:01<00:00, 500.46it/s]\n"
     ]
    },
    {
     "name": "stdout",
     "output_type": "stream",
     "text": [
      "Epoch  58/200: RMSE_train: 1,665,118, RMSE_val: 1,680,622\n",
      "EarlyStopping counter: 1 out of 200\n"
     ]
    },
    {
     "name": "stderr",
     "output_type": "stream",
     "text": [
      "100%|██████████| 646/646 [00:01<00:00, 498.81it/s]\n"
     ]
    },
    {
     "name": "stdout",
     "output_type": "stream",
     "text": [
      "Epoch  59/200: RMSE_train: 1,663,202, RMSE_val: 1,682,884\n",
      "EarlyStopping counter: 2 out of 200\n"
     ]
    },
    {
     "name": "stderr",
     "output_type": "stream",
     "text": [
      "100%|██████████| 646/646 [00:01<00:00, 492.00it/s]\n"
     ]
    },
    {
     "name": "stdout",
     "output_type": "stream",
     "text": [
      "Epoch  60/200: RMSE_train: 1,660,599, RMSE_val: 1,684,957\n",
      "EarlyStopping counter: 3 out of 200\n"
     ]
    },
    {
     "name": "stderr",
     "output_type": "stream",
     "text": [
      "100%|██████████| 646/646 [00:01<00:00, 481.38it/s]\n"
     ]
    },
    {
     "name": "stdout",
     "output_type": "stream",
     "text": [
      "Epoch  61/200: RMSE_train: 1,658,366, RMSE_val: 1,679,083\n",
      "EarlyStopping counter: 4 out of 200\n"
     ]
    },
    {
     "name": "stderr",
     "output_type": "stream",
     "text": [
      "100%|██████████| 646/646 [00:01<00:00, 485.90it/s]\n"
     ]
    },
    {
     "name": "stdout",
     "output_type": "stream",
     "text": [
      "Epoch  62/200: RMSE_train: 1,655,880, RMSE_val: 1,677,637\n"
     ]
    },
    {
     "name": "stderr",
     "output_type": "stream",
     "text": [
      "100%|██████████| 646/646 [00:01<00:00, 495.73it/s]\n"
     ]
    },
    {
     "name": "stdout",
     "output_type": "stream",
     "text": [
      "Epoch  63/200: RMSE_train: 1,653,587, RMSE_val: 1,670,026\n"
     ]
    },
    {
     "name": "stderr",
     "output_type": "stream",
     "text": [
      "100%|██████████| 646/646 [00:01<00:00, 503.89it/s]\n"
     ]
    },
    {
     "name": "stdout",
     "output_type": "stream",
     "text": [
      "Epoch  64/200: RMSE_train: 1,651,334, RMSE_val: 1,671,412\n",
      "EarlyStopping counter: 1 out of 200\n"
     ]
    },
    {
     "name": "stderr",
     "output_type": "stream",
     "text": [
      "100%|██████████| 646/646 [00:01<00:00, 477.82it/s]\n"
     ]
    },
    {
     "name": "stdout",
     "output_type": "stream",
     "text": [
      "Epoch  65/200: RMSE_train: 1,648,772, RMSE_val: 1,682,095\n",
      "EarlyStopping counter: 2 out of 200\n"
     ]
    },
    {
     "name": "stderr",
     "output_type": "stream",
     "text": [
      "100%|██████████| 646/646 [00:01<00:00, 472.31it/s]\n"
     ]
    },
    {
     "name": "stdout",
     "output_type": "stream",
     "text": [
      "Epoch  66/200: RMSE_train: 1,646,190, RMSE_val: 1,665,914\n"
     ]
    },
    {
     "name": "stderr",
     "output_type": "stream",
     "text": [
      "100%|██████████| 646/646 [00:01<00:00, 460.31it/s]\n"
     ]
    },
    {
     "name": "stdout",
     "output_type": "stream",
     "text": [
      "Epoch  67/200: RMSE_train: 1,643,727, RMSE_val: 1,667,769\n",
      "EarlyStopping counter: 1 out of 200\n"
     ]
    },
    {
     "name": "stderr",
     "output_type": "stream",
     "text": [
      "100%|██████████| 646/646 [00:01<00:00, 493.88it/s]\n"
     ]
    },
    {
     "name": "stdout",
     "output_type": "stream",
     "text": [
      "Epoch  68/200: RMSE_train: 1,641,205, RMSE_val: 1,663,422\n"
     ]
    },
    {
     "name": "stderr",
     "output_type": "stream",
     "text": [
      "100%|██████████| 646/646 [00:01<00:00, 510.58it/s]\n"
     ]
    },
    {
     "name": "stdout",
     "output_type": "stream",
     "text": [
      "Epoch  69/200: RMSE_train: 1,638,456, RMSE_val: 1,672,002\n",
      "EarlyStopping counter: 1 out of 200\n"
     ]
    },
    {
     "name": "stderr",
     "output_type": "stream",
     "text": [
      "100%|██████████| 646/646 [00:01<00:00, 500.74it/s]\n"
     ]
    },
    {
     "name": "stdout",
     "output_type": "stream",
     "text": [
      "Epoch  70/200: RMSE_train: 1,636,103, RMSE_val: 1,672,408\n",
      "EarlyStopping counter: 2 out of 200\n"
     ]
    },
    {
     "name": "stderr",
     "output_type": "stream",
     "text": [
      "100%|██████████| 646/646 [00:01<00:00, 501.52it/s]\n"
     ]
    },
    {
     "name": "stdout",
     "output_type": "stream",
     "text": [
      "Epoch  71/200: RMSE_train: 1,633,299, RMSE_val: 1,655,853\n"
     ]
    },
    {
     "name": "stderr",
     "output_type": "stream",
     "text": [
      "100%|██████████| 646/646 [00:01<00:00, 506.60it/s]\n"
     ]
    },
    {
     "name": "stdout",
     "output_type": "stream",
     "text": [
      "Epoch  72/200: RMSE_train: 1,630,609, RMSE_val: 1,661,347\n",
      "EarlyStopping counter: 1 out of 200\n"
     ]
    },
    {
     "name": "stderr",
     "output_type": "stream",
     "text": [
      "100%|██████████| 646/646 [00:01<00:00, 502.21it/s]\n"
     ]
    },
    {
     "name": "stdout",
     "output_type": "stream",
     "text": [
      "Epoch  73/200: RMSE_train: 1,627,776, RMSE_val: 1,658,812\n",
      "EarlyStopping counter: 2 out of 200\n"
     ]
    },
    {
     "name": "stderr",
     "output_type": "stream",
     "text": [
      "100%|██████████| 646/646 [00:01<00:00, 496.18it/s]\n"
     ]
    },
    {
     "name": "stdout",
     "output_type": "stream",
     "text": [
      "Epoch  74/200: RMSE_train: 1,625,007, RMSE_val: 1,648,711\n"
     ]
    },
    {
     "name": "stderr",
     "output_type": "stream",
     "text": [
      "100%|██████████| 646/646 [00:01<00:00, 506.91it/s]\n"
     ]
    },
    {
     "name": "stdout",
     "output_type": "stream",
     "text": [
      "Epoch  75/200: RMSE_train: 1,622,224, RMSE_val: 1,665,746\n",
      "EarlyStopping counter: 1 out of 200\n"
     ]
    },
    {
     "name": "stderr",
     "output_type": "stream",
     "text": [
      "100%|██████████| 646/646 [00:01<00:00, 508.38it/s]\n"
     ]
    },
    {
     "name": "stdout",
     "output_type": "stream",
     "text": [
      "Epoch  76/200: RMSE_train: 1,619,385, RMSE_val: 1,652,349\n",
      "EarlyStopping counter: 2 out of 200\n"
     ]
    },
    {
     "name": "stderr",
     "output_type": "stream",
     "text": [
      "100%|██████████| 646/646 [00:01<00:00, 510.97it/s]\n"
     ]
    },
    {
     "name": "stdout",
     "output_type": "stream",
     "text": [
      "Epoch  77/200: RMSE_train: 1,616,449, RMSE_val: 1,649,783\n",
      "EarlyStopping counter: 3 out of 200\n"
     ]
    },
    {
     "name": "stderr",
     "output_type": "stream",
     "text": [
      "100%|██████████| 646/646 [00:01<00:00, 504.87it/s]\n"
     ]
    },
    {
     "name": "stdout",
     "output_type": "stream",
     "text": [
      "Epoch  78/200: RMSE_train: 1,613,584, RMSE_val: 1,645,991\n"
     ]
    },
    {
     "name": "stderr",
     "output_type": "stream",
     "text": [
      "100%|██████████| 646/646 [00:01<00:00, 506.74it/s]\n"
     ]
    },
    {
     "name": "stdout",
     "output_type": "stream",
     "text": [
      "Epoch  79/200: RMSE_train: 1,610,597, RMSE_val: 1,656,265\n",
      "EarlyStopping counter: 1 out of 200\n"
     ]
    },
    {
     "name": "stderr",
     "output_type": "stream",
     "text": [
      "100%|██████████| 646/646 [00:01<00:00, 503.30it/s]\n"
     ]
    },
    {
     "name": "stdout",
     "output_type": "stream",
     "text": [
      "Epoch  80/200: RMSE_train: 1,607,716, RMSE_val: 1,649,058\n",
      "EarlyStopping counter: 2 out of 200\n"
     ]
    },
    {
     "name": "stderr",
     "output_type": "stream",
     "text": [
      "100%|██████████| 646/646 [00:01<00:00, 504.69it/s]\n"
     ]
    },
    {
     "name": "stdout",
     "output_type": "stream",
     "text": [
      "Epoch  81/200: RMSE_train: 1,604,757, RMSE_val: 1,640,868\n"
     ]
    },
    {
     "name": "stderr",
     "output_type": "stream",
     "text": [
      "100%|██████████| 646/646 [00:01<00:00, 505.90it/s]\n"
     ]
    },
    {
     "name": "stdout",
     "output_type": "stream",
     "text": [
      "Epoch  82/200: RMSE_train: 1,601,569, RMSE_val: 1,630,980\n"
     ]
    },
    {
     "name": "stderr",
     "output_type": "stream",
     "text": [
      "100%|██████████| 646/646 [00:01<00:00, 483.91it/s]\n"
     ]
    },
    {
     "name": "stdout",
     "output_type": "stream",
     "text": [
      "Epoch  83/200: RMSE_train: 1,598,576, RMSE_val: 1,639,288\n",
      "EarlyStopping counter: 1 out of 200\n"
     ]
    },
    {
     "name": "stderr",
     "output_type": "stream",
     "text": [
      "100%|██████████| 646/646 [00:01<00:00, 493.80it/s]\n"
     ]
    },
    {
     "name": "stdout",
     "output_type": "stream",
     "text": [
      "Epoch  84/200: RMSE_train: 1,595,345, RMSE_val: 1,637,640\n",
      "EarlyStopping counter: 2 out of 200\n"
     ]
    },
    {
     "name": "stderr",
     "output_type": "stream",
     "text": [
      "100%|██████████| 646/646 [00:01<00:00, 469.44it/s]\n"
     ]
    },
    {
     "name": "stdout",
     "output_type": "stream",
     "text": [
      "Epoch  85/200: RMSE_train: 1,592,459, RMSE_val: 1,628,467\n"
     ]
    },
    {
     "name": "stderr",
     "output_type": "stream",
     "text": [
      "100%|██████████| 646/646 [00:01<00:00, 479.28it/s]\n"
     ]
    },
    {
     "name": "stdout",
     "output_type": "stream",
     "text": [
      "Epoch  86/200: RMSE_train: 1,589,244, RMSE_val: 1,634,481\n",
      "EarlyStopping counter: 1 out of 200\n"
     ]
    },
    {
     "name": "stderr",
     "output_type": "stream",
     "text": [
      "100%|██████████| 646/646 [00:01<00:00, 458.27it/s]\n"
     ]
    },
    {
     "name": "stdout",
     "output_type": "stream",
     "text": [
      "Epoch  87/200: RMSE_train: 1,585,839, RMSE_val: 1,646,475\n",
      "EarlyStopping counter: 2 out of 200\n"
     ]
    },
    {
     "name": "stderr",
     "output_type": "stream",
     "text": [
      "100%|██████████| 646/646 [00:01<00:00, 458.57it/s]\n"
     ]
    },
    {
     "name": "stdout",
     "output_type": "stream",
     "text": [
      "Epoch  88/200: RMSE_train: 1,582,554, RMSE_val: 1,642,441\n",
      "EarlyStopping counter: 3 out of 200\n"
     ]
    },
    {
     "name": "stderr",
     "output_type": "stream",
     "text": [
      "100%|██████████| 646/646 [00:01<00:00, 457.52it/s]\n"
     ]
    },
    {
     "name": "stdout",
     "output_type": "stream",
     "text": [
      "Epoch  89/200: RMSE_train: 1,579,210, RMSE_val: 1,628,862\n",
      "EarlyStopping counter: 4 out of 200\n"
     ]
    },
    {
     "name": "stderr",
     "output_type": "stream",
     "text": [
      "100%|██████████| 646/646 [00:01<00:00, 442.23it/s]\n"
     ]
    },
    {
     "name": "stdout",
     "output_type": "stream",
     "text": [
      "Epoch  90/200: RMSE_train: 1,576,614, RMSE_val: 1,620,984\n"
     ]
    },
    {
     "name": "stderr",
     "output_type": "stream",
     "text": [
      "100%|██████████| 646/646 [00:01<00:00, 472.25it/s]\n"
     ]
    },
    {
     "name": "stdout",
     "output_type": "stream",
     "text": [
      "Epoch  91/200: RMSE_train: 1,572,857, RMSE_val: 1,618,350\n"
     ]
    },
    {
     "name": "stderr",
     "output_type": "stream",
     "text": [
      "100%|██████████| 646/646 [00:01<00:00, 450.42it/s]\n"
     ]
    },
    {
     "name": "stdout",
     "output_type": "stream",
     "text": [
      "Epoch  92/200: RMSE_train: 1,569,239, RMSE_val: 1,614,426\n"
     ]
    },
    {
     "name": "stderr",
     "output_type": "stream",
     "text": [
      "100%|██████████| 646/646 [00:01<00:00, 487.22it/s]\n"
     ]
    },
    {
     "name": "stdout",
     "output_type": "stream",
     "text": [
      "Epoch  93/200: RMSE_train: 1,566,087, RMSE_val: 1,630,230\n",
      "EarlyStopping counter: 1 out of 200\n"
     ]
    },
    {
     "name": "stderr",
     "output_type": "stream",
     "text": [
      "100%|██████████| 646/646 [00:01<00:00, 496.81it/s]\n"
     ]
    },
    {
     "name": "stdout",
     "output_type": "stream",
     "text": [
      "Epoch  94/200: RMSE_train: 1,562,502, RMSE_val: 1,620,293\n",
      "EarlyStopping counter: 2 out of 200\n"
     ]
    },
    {
     "name": "stderr",
     "output_type": "stream",
     "text": [
      "100%|██████████| 646/646 [00:01<00:00, 498.04it/s]\n"
     ]
    },
    {
     "name": "stdout",
     "output_type": "stream",
     "text": [
      "Epoch  95/200: RMSE_train: 1,559,405, RMSE_val: 1,610,305\n"
     ]
    },
    {
     "name": "stderr",
     "output_type": "stream",
     "text": [
      "100%|██████████| 646/646 [00:01<00:00, 503.50it/s]\n"
     ]
    },
    {
     "name": "stdout",
     "output_type": "stream",
     "text": [
      "Epoch  96/200: RMSE_train: 1,555,660, RMSE_val: 1,607,227\n"
     ]
    },
    {
     "name": "stderr",
     "output_type": "stream",
     "text": [
      "100%|██████████| 646/646 [00:01<00:00, 500.78it/s]\n"
     ]
    },
    {
     "name": "stdout",
     "output_type": "stream",
     "text": [
      "Epoch  97/200: RMSE_train: 1,552,126, RMSE_val: 1,600,042\n"
     ]
    },
    {
     "name": "stderr",
     "output_type": "stream",
     "text": [
      "100%|██████████| 646/646 [00:01<00:00, 500.34it/s]\n"
     ]
    },
    {
     "name": "stdout",
     "output_type": "stream",
     "text": [
      "Epoch  98/200: RMSE_train: 1,548,730, RMSE_val: 1,602,679\n",
      "EarlyStopping counter: 1 out of 200\n"
     ]
    },
    {
     "name": "stderr",
     "output_type": "stream",
     "text": [
      "100%|██████████| 646/646 [00:01<00:00, 500.85it/s]\n"
     ]
    },
    {
     "name": "stdout",
     "output_type": "stream",
     "text": [
      "Epoch  99/200: RMSE_train: 1,544,931, RMSE_val: 1,608,081\n",
      "EarlyStopping counter: 2 out of 200\n"
     ]
    },
    {
     "name": "stderr",
     "output_type": "stream",
     "text": [
      "100%|██████████| 646/646 [00:01<00:00, 503.61it/s]\n"
     ]
    },
    {
     "name": "stdout",
     "output_type": "stream",
     "text": [
      "Epoch 100/200: RMSE_train: 1,541,324, RMSE_val: 1,589,979\n"
     ]
    },
    {
     "name": "stderr",
     "output_type": "stream",
     "text": [
      "100%|██████████| 646/646 [00:01<00:00, 482.34it/s]\n"
     ]
    },
    {
     "name": "stdout",
     "output_type": "stream",
     "text": [
      "Epoch 101/200: RMSE_train: 1,537,730, RMSE_val: 1,596,985\n",
      "EarlyStopping counter: 1 out of 200\n"
     ]
    },
    {
     "name": "stderr",
     "output_type": "stream",
     "text": [
      "100%|██████████| 646/646 [00:01<00:00, 451.37it/s]\n"
     ]
    },
    {
     "name": "stdout",
     "output_type": "stream",
     "text": [
      "Epoch 102/200: RMSE_train: 1,534,062, RMSE_val: 1,600,864\n",
      "EarlyStopping counter: 2 out of 200\n"
     ]
    },
    {
     "name": "stderr",
     "output_type": "stream",
     "text": [
      "100%|██████████| 646/646 [00:01<00:00, 483.27it/s]\n"
     ]
    },
    {
     "name": "stdout",
     "output_type": "stream",
     "text": [
      "Epoch 103/200: RMSE_train: 1,529,835, RMSE_val: 1,597,864\n",
      "EarlyStopping counter: 3 out of 200\n"
     ]
    },
    {
     "name": "stderr",
     "output_type": "stream",
     "text": [
      "100%|██████████| 646/646 [00:01<00:00, 483.90it/s]\n"
     ]
    },
    {
     "name": "stdout",
     "output_type": "stream",
     "text": [
      "Epoch 104/200: RMSE_train: 1,526,451, RMSE_val: 1,581,320\n"
     ]
    },
    {
     "name": "stderr",
     "output_type": "stream",
     "text": [
      "100%|██████████| 646/646 [00:01<00:00, 447.00it/s]\n"
     ]
    },
    {
     "name": "stdout",
     "output_type": "stream",
     "text": [
      "Epoch 105/200: RMSE_train: 1,522,706, RMSE_val: 1,575,499\n"
     ]
    },
    {
     "name": "stderr",
     "output_type": "stream",
     "text": [
      "100%|██████████| 646/646 [00:01<00:00, 486.94it/s]\n"
     ]
    },
    {
     "name": "stdout",
     "output_type": "stream",
     "text": [
      "Epoch 106/200: RMSE_train: 1,518,572, RMSE_val: 1,572,519\n"
     ]
    },
    {
     "name": "stderr",
     "output_type": "stream",
     "text": [
      "100%|██████████| 646/646 [00:01<00:00, 473.37it/s]\n"
     ]
    },
    {
     "name": "stdout",
     "output_type": "stream",
     "text": [
      "Epoch 107/200: RMSE_train: 1,515,003, RMSE_val: 1,593,799\n",
      "EarlyStopping counter: 1 out of 200\n"
     ]
    },
    {
     "name": "stderr",
     "output_type": "stream",
     "text": [
      "100%|██████████| 646/646 [00:01<00:00, 478.08it/s]\n"
     ]
    },
    {
     "name": "stdout",
     "output_type": "stream",
     "text": [
      "Epoch 108/200: RMSE_train: 1,511,149, RMSE_val: 1,595,515\n",
      "EarlyStopping counter: 2 out of 200\n"
     ]
    },
    {
     "name": "stderr",
     "output_type": "stream",
     "text": [
      "100%|██████████| 646/646 [00:01<00:00, 482.28it/s]\n"
     ]
    },
    {
     "name": "stdout",
     "output_type": "stream",
     "text": [
      "Epoch 109/200: RMSE_train: 1,506,981, RMSE_val: 1,588,213\n",
      "EarlyStopping counter: 3 out of 200\n"
     ]
    },
    {
     "name": "stderr",
     "output_type": "stream",
     "text": [
      "100%|██████████| 646/646 [00:01<00:00, 479.64it/s]\n"
     ]
    },
    {
     "name": "stdout",
     "output_type": "stream",
     "text": [
      "Epoch 110/200: RMSE_train: 1,503,101, RMSE_val: 1,595,205\n",
      "EarlyStopping counter: 4 out of 200\n"
     ]
    },
    {
     "name": "stderr",
     "output_type": "stream",
     "text": [
      "100%|██████████| 646/646 [00:01<00:00, 414.95it/s]\n"
     ]
    },
    {
     "name": "stdout",
     "output_type": "stream",
     "text": [
      "Epoch 111/200: RMSE_train: 1,498,861, RMSE_val: 1,582,281\n",
      "EarlyStopping counter: 5 out of 200\n"
     ]
    },
    {
     "name": "stderr",
     "output_type": "stream",
     "text": [
      "100%|██████████| 646/646 [00:01<00:00, 444.84it/s]\n"
     ]
    },
    {
     "name": "stdout",
     "output_type": "stream",
     "text": [
      "Epoch 112/200: RMSE_train: 1,495,241, RMSE_val: 1,570,060\n"
     ]
    },
    {
     "name": "stderr",
     "output_type": "stream",
     "text": [
      "100%|██████████| 646/646 [00:01<00:00, 471.48it/s]\n"
     ]
    },
    {
     "name": "stdout",
     "output_type": "stream",
     "text": [
      "Epoch 113/200: RMSE_train: 1,490,986, RMSE_val: 1,587,131\n",
      "EarlyStopping counter: 1 out of 200\n"
     ]
    },
    {
     "name": "stderr",
     "output_type": "stream",
     "text": [
      "100%|██████████| 646/646 [00:01<00:00, 483.29it/s]\n"
     ]
    },
    {
     "name": "stdout",
     "output_type": "stream",
     "text": [
      "Epoch 114/200: RMSE_train: 1,486,803, RMSE_val: 1,550,054\n"
     ]
    },
    {
     "name": "stderr",
     "output_type": "stream",
     "text": [
      "100%|██████████| 646/646 [00:01<00:00, 453.01it/s]\n"
     ]
    },
    {
     "name": "stdout",
     "output_type": "stream",
     "text": [
      "Epoch 115/200: RMSE_train: 1,482,962, RMSE_val: 1,557,708\n",
      "EarlyStopping counter: 1 out of 200\n"
     ]
    },
    {
     "name": "stderr",
     "output_type": "stream",
     "text": [
      "100%|██████████| 646/646 [00:01<00:00, 462.66it/s]\n"
     ]
    },
    {
     "name": "stdout",
     "output_type": "stream",
     "text": [
      "Epoch 116/200: RMSE_train: 1,478,385, RMSE_val: 1,594,884\n",
      "EarlyStopping counter: 2 out of 200\n"
     ]
    },
    {
     "name": "stderr",
     "output_type": "stream",
     "text": [
      "100%|██████████| 646/646 [00:01<00:00, 484.77it/s]\n"
     ]
    },
    {
     "name": "stdout",
     "output_type": "stream",
     "text": [
      "Epoch 117/200: RMSE_train: 1,474,200, RMSE_val: 1,554,283\n",
      "EarlyStopping counter: 3 out of 200\n"
     ]
    },
    {
     "name": "stderr",
     "output_type": "stream",
     "text": [
      "100%|██████████| 646/646 [00:01<00:00, 489.55it/s]\n"
     ]
    },
    {
     "name": "stdout",
     "output_type": "stream",
     "text": [
      "Epoch 118/200: RMSE_train: 1,470,471, RMSE_val: 1,557,503\n",
      "EarlyStopping counter: 4 out of 200\n"
     ]
    },
    {
     "name": "stderr",
     "output_type": "stream",
     "text": [
      "100%|██████████| 646/646 [00:01<00:00, 456.00it/s]\n"
     ]
    },
    {
     "name": "stdout",
     "output_type": "stream",
     "text": [
      "Epoch 119/200: RMSE_train: 1,465,940, RMSE_val: 1,547,721\n"
     ]
    },
    {
     "name": "stderr",
     "output_type": "stream",
     "text": [
      "100%|██████████| 646/646 [00:01<00:00, 455.13it/s]\n"
     ]
    },
    {
     "name": "stdout",
     "output_type": "stream",
     "text": [
      "Epoch 120/200: RMSE_train: 1,461,745, RMSE_val: 1,560,277\n",
      "EarlyStopping counter: 1 out of 200\n"
     ]
    },
    {
     "name": "stderr",
     "output_type": "stream",
     "text": [
      "100%|██████████| 646/646 [00:01<00:00, 483.94it/s]\n"
     ]
    },
    {
     "name": "stdout",
     "output_type": "stream",
     "text": [
      "Epoch 121/200: RMSE_train: 1,457,816, RMSE_val: 1,538,528\n"
     ]
    },
    {
     "name": "stderr",
     "output_type": "stream",
     "text": [
      "100%|██████████| 646/646 [00:01<00:00, 471.45it/s]\n"
     ]
    },
    {
     "name": "stdout",
     "output_type": "stream",
     "text": [
      "Epoch 122/200: RMSE_train: 1,453,325, RMSE_val: 1,536,691\n"
     ]
    },
    {
     "name": "stderr",
     "output_type": "stream",
     "text": [
      "100%|██████████| 646/646 [00:01<00:00, 448.43it/s]\n"
     ]
    },
    {
     "name": "stdout",
     "output_type": "stream",
     "text": [
      "Epoch 123/200: RMSE_train: 1,448,471, RMSE_val: 1,538,732\n",
      "EarlyStopping counter: 1 out of 200\n"
     ]
    },
    {
     "name": "stderr",
     "output_type": "stream",
     "text": [
      "100%|██████████| 646/646 [00:01<00:00, 456.80it/s]\n"
     ]
    },
    {
     "name": "stdout",
     "output_type": "stream",
     "text": [
      "Epoch 124/200: RMSE_train: 1,443,661, RMSE_val: 1,537,728\n",
      "EarlyStopping counter: 2 out of 200\n"
     ]
    },
    {
     "name": "stderr",
     "output_type": "stream",
     "text": [
      "100%|██████████| 646/646 [00:01<00:00, 491.73it/s]\n"
     ]
    },
    {
     "name": "stdout",
     "output_type": "stream",
     "text": [
      "Epoch 125/200: RMSE_train: 1,440,228, RMSE_val: 1,526,515\n"
     ]
    },
    {
     "name": "stderr",
     "output_type": "stream",
     "text": [
      "100%|██████████| 646/646 [00:01<00:00, 492.84it/s]\n"
     ]
    },
    {
     "name": "stdout",
     "output_type": "stream",
     "text": [
      "Epoch 126/200: RMSE_train: 1,434,703, RMSE_val: 1,512,342\n"
     ]
    },
    {
     "name": "stderr",
     "output_type": "stream",
     "text": [
      "100%|██████████| 646/646 [00:01<00:00, 481.85it/s]\n"
     ]
    },
    {
     "name": "stdout",
     "output_type": "stream",
     "text": [
      "Epoch 127/200: RMSE_train: 1,431,138, RMSE_val: 1,553,241\n",
      "EarlyStopping counter: 1 out of 200\n"
     ]
    },
    {
     "name": "stderr",
     "output_type": "stream",
     "text": [
      "100%|██████████| 646/646 [00:01<00:00, 456.66it/s]\n"
     ]
    },
    {
     "name": "stdout",
     "output_type": "stream",
     "text": [
      "Epoch 128/200: RMSE_train: 1,427,163, RMSE_val: 1,542,577\n",
      "EarlyStopping counter: 2 out of 200\n"
     ]
    },
    {
     "name": "stderr",
     "output_type": "stream",
     "text": [
      "100%|██████████| 646/646 [00:01<00:00, 433.39it/s]\n"
     ]
    },
    {
     "name": "stdout",
     "output_type": "stream",
     "text": [
      "Epoch 129/200: RMSE_train: 1,421,975, RMSE_val: 1,546,024\n",
      "EarlyStopping counter: 3 out of 200\n"
     ]
    },
    {
     "name": "stderr",
     "output_type": "stream",
     "text": [
      "100%|██████████| 646/646 [00:01<00:00, 455.86it/s]\n"
     ]
    },
    {
     "name": "stdout",
     "output_type": "stream",
     "text": [
      "Epoch 130/200: RMSE_train: 1,416,870, RMSE_val: 1,537,543\n",
      "EarlyStopping counter: 4 out of 200\n"
     ]
    },
    {
     "name": "stderr",
     "output_type": "stream",
     "text": [
      "100%|██████████| 646/646 [00:01<00:00, 486.32it/s]\n"
     ]
    },
    {
     "name": "stdout",
     "output_type": "stream",
     "text": [
      "Epoch 131/200: RMSE_train: 1,413,103, RMSE_val: 1,538,458\n",
      "EarlyStopping counter: 5 out of 200\n"
     ]
    },
    {
     "name": "stderr",
     "output_type": "stream",
     "text": [
      "100%|██████████| 646/646 [00:01<00:00, 477.95it/s]\n"
     ]
    },
    {
     "name": "stdout",
     "output_type": "stream",
     "text": [
      "Epoch 132/200: RMSE_train: 1,407,744, RMSE_val: 1,528,094\n",
      "EarlyStopping counter: 6 out of 200\n"
     ]
    },
    {
     "name": "stderr",
     "output_type": "stream",
     "text": [
      "100%|██████████| 646/646 [00:01<00:00, 479.32it/s]\n"
     ]
    },
    {
     "name": "stdout",
     "output_type": "stream",
     "text": [
      "Epoch 133/200: RMSE_train: 1,403,662, RMSE_val: 1,521,544\n",
      "EarlyStopping counter: 7 out of 200\n"
     ]
    },
    {
     "name": "stderr",
     "output_type": "stream",
     "text": [
      "100%|██████████| 646/646 [00:01<00:00, 492.10it/s]\n"
     ]
    },
    {
     "name": "stdout",
     "output_type": "stream",
     "text": [
      "Epoch 134/200: RMSE_train: 1,398,949, RMSE_val: 1,534,315\n",
      "EarlyStopping counter: 8 out of 200\n"
     ]
    },
    {
     "name": "stderr",
     "output_type": "stream",
     "text": [
      "100%|██████████| 646/646 [00:01<00:00, 478.55it/s]\n"
     ]
    },
    {
     "name": "stdout",
     "output_type": "stream",
     "text": [
      "Epoch 135/200: RMSE_train: 1,394,414, RMSE_val: 1,527,853\n",
      "EarlyStopping counter: 9 out of 200\n"
     ]
    },
    {
     "name": "stderr",
     "output_type": "stream",
     "text": [
      "100%|██████████| 646/646 [00:01<00:00, 491.68it/s]\n"
     ]
    },
    {
     "name": "stdout",
     "output_type": "stream",
     "text": [
      "Epoch 136/200: RMSE_train: 1,388,866, RMSE_val: 1,558,291\n",
      "EarlyStopping counter: 10 out of 200\n"
     ]
    },
    {
     "name": "stderr",
     "output_type": "stream",
     "text": [
      "100%|██████████| 646/646 [00:01<00:00, 501.30it/s]\n"
     ]
    },
    {
     "name": "stdout",
     "output_type": "stream",
     "text": [
      "Epoch 137/200: RMSE_train: 1,383,750, RMSE_val: 1,633,810\n",
      "EarlyStopping counter: 11 out of 200\n"
     ]
    },
    {
     "name": "stderr",
     "output_type": "stream",
     "text": [
      "100%|██████████| 646/646 [00:01<00:00, 486.27it/s]\n"
     ]
    },
    {
     "name": "stdout",
     "output_type": "stream",
     "text": [
      "Epoch 138/200: RMSE_train: 1,379,753, RMSE_val: 1,516,693\n",
      "EarlyStopping counter: 12 out of 200\n"
     ]
    },
    {
     "name": "stderr",
     "output_type": "stream",
     "text": [
      "100%|██████████| 646/646 [00:01<00:00, 497.80it/s]\n"
     ]
    },
    {
     "name": "stdout",
     "output_type": "stream",
     "text": [
      "Epoch 139/200: RMSE_train: 1,375,352, RMSE_val: 1,488,013\n"
     ]
    },
    {
     "name": "stderr",
     "output_type": "stream",
     "text": [
      "100%|██████████| 646/646 [00:01<00:00, 506.92it/s]\n"
     ]
    },
    {
     "name": "stdout",
     "output_type": "stream",
     "text": [
      "Epoch 140/200: RMSE_train: 1,369,564, RMSE_val: 1,488,182\n",
      "EarlyStopping counter: 1 out of 200\n"
     ]
    },
    {
     "name": "stderr",
     "output_type": "stream",
     "text": [
      "100%|██████████| 646/646 [00:01<00:00, 510.13it/s]\n"
     ]
    },
    {
     "name": "stdout",
     "output_type": "stream",
     "text": [
      "Epoch 141/200: RMSE_train: 1,366,264, RMSE_val: 1,476,905\n"
     ]
    },
    {
     "name": "stderr",
     "output_type": "stream",
     "text": [
      "100%|██████████| 646/646 [00:01<00:00, 502.20it/s]\n"
     ]
    },
    {
     "name": "stdout",
     "output_type": "stream",
     "text": [
      "Epoch 142/200: RMSE_train: 1,360,424, RMSE_val: 1,471,768\n"
     ]
    },
    {
     "name": "stderr",
     "output_type": "stream",
     "text": [
      "100%|██████████| 646/646 [00:01<00:00, 511.78it/s]\n"
     ]
    },
    {
     "name": "stdout",
     "output_type": "stream",
     "text": [
      "Epoch 143/200: RMSE_train: 1,354,948, RMSE_val: 1,481,760\n",
      "EarlyStopping counter: 1 out of 200\n"
     ]
    },
    {
     "name": "stderr",
     "output_type": "stream",
     "text": [
      "100%|██████████| 646/646 [00:01<00:00, 495.97it/s]\n"
     ]
    },
    {
     "name": "stdout",
     "output_type": "stream",
     "text": [
      "Epoch 144/200: RMSE_train: 1,350,220, RMSE_val: 1,474,114\n",
      "EarlyStopping counter: 2 out of 200\n"
     ]
    },
    {
     "name": "stderr",
     "output_type": "stream",
     "text": [
      "100%|██████████| 646/646 [00:01<00:00, 472.48it/s]\n"
     ]
    },
    {
     "name": "stdout",
     "output_type": "stream",
     "text": [
      "Epoch 145/200: RMSE_train: 1,345,082, RMSE_val: 1,475,981\n",
      "EarlyStopping counter: 3 out of 200\n"
     ]
    },
    {
     "name": "stderr",
     "output_type": "stream",
     "text": [
      "100%|██████████| 646/646 [00:01<00:00, 507.79it/s]\n"
     ]
    },
    {
     "name": "stdout",
     "output_type": "stream",
     "text": [
      "Epoch 146/200: RMSE_train: 1,339,802, RMSE_val: 1,474,565\n",
      "EarlyStopping counter: 4 out of 200\n"
     ]
    },
    {
     "name": "stderr",
     "output_type": "stream",
     "text": [
      "100%|██████████| 646/646 [00:01<00:00, 510.67it/s]\n"
     ]
    },
    {
     "name": "stdout",
     "output_type": "stream",
     "text": [
      "Epoch 147/200: RMSE_train: 1,334,490, RMSE_val: 1,459,867\n"
     ]
    },
    {
     "name": "stderr",
     "output_type": "stream",
     "text": [
      "100%|██████████| 646/646 [00:01<00:00, 508.78it/s]\n"
     ]
    },
    {
     "name": "stdout",
     "output_type": "stream",
     "text": [
      "Epoch 148/200: RMSE_train: 1,330,002, RMSE_val: 1,540,505\n",
      "EarlyStopping counter: 1 out of 200\n"
     ]
    },
    {
     "name": "stderr",
     "output_type": "stream",
     "text": [
      "100%|██████████| 646/646 [00:01<00:00, 475.40it/s]\n"
     ]
    },
    {
     "name": "stdout",
     "output_type": "stream",
     "text": [
      "Epoch 149/200: RMSE_train: 1,324,700, RMSE_val: 1,540,044\n",
      "EarlyStopping counter: 2 out of 200\n"
     ]
    },
    {
     "name": "stderr",
     "output_type": "stream",
     "text": [
      "100%|██████████| 646/646 [00:01<00:00, 502.76it/s]\n"
     ]
    },
    {
     "name": "stdout",
     "output_type": "stream",
     "text": [
      "Epoch 150/200: RMSE_train: 1,319,800, RMSE_val: 1,459,485\n"
     ]
    },
    {
     "name": "stderr",
     "output_type": "stream",
     "text": [
      "100%|██████████| 646/646 [00:01<00:00, 493.43it/s]\n"
     ]
    },
    {
     "name": "stdout",
     "output_type": "stream",
     "text": [
      "Epoch 151/200: RMSE_train: 1,314,932, RMSE_val: 1,478,151\n",
      "EarlyStopping counter: 1 out of 200\n"
     ]
    },
    {
     "name": "stderr",
     "output_type": "stream",
     "text": [
      "100%|██████████| 646/646 [00:01<00:00, 482.34it/s]\n"
     ]
    },
    {
     "name": "stdout",
     "output_type": "stream",
     "text": [
      "Epoch 152/200: RMSE_train: 1,309,537, RMSE_val: 1,446,775\n"
     ]
    },
    {
     "name": "stderr",
     "output_type": "stream",
     "text": [
      "100%|██████████| 646/646 [00:01<00:00, 474.05it/s]\n"
     ]
    },
    {
     "name": "stdout",
     "output_type": "stream",
     "text": [
      "Epoch 153/200: RMSE_train: 1,303,378, RMSE_val: 1,472,133\n",
      "EarlyStopping counter: 1 out of 200\n"
     ]
    },
    {
     "name": "stderr",
     "output_type": "stream",
     "text": [
      "100%|██████████| 646/646 [00:01<00:00, 471.95it/s]\n"
     ]
    },
    {
     "name": "stdout",
     "output_type": "stream",
     "text": [
      "Epoch 154/200: RMSE_train: 1,299,141, RMSE_val: 1,449,422\n",
      "EarlyStopping counter: 2 out of 200\n"
     ]
    },
    {
     "name": "stderr",
     "output_type": "stream",
     "text": [
      "100%|██████████| 646/646 [00:01<00:00, 486.84it/s]\n"
     ]
    },
    {
     "name": "stdout",
     "output_type": "stream",
     "text": [
      "Epoch 155/200: RMSE_train: 1,293,530, RMSE_val: 1,464,006\n",
      "EarlyStopping counter: 3 out of 200\n"
     ]
    },
    {
     "name": "stderr",
     "output_type": "stream",
     "text": [
      "100%|██████████| 646/646 [00:01<00:00, 456.57it/s]\n"
     ]
    },
    {
     "name": "stdout",
     "output_type": "stream",
     "text": [
      "Epoch 156/200: RMSE_train: 1,288,692, RMSE_val: 1,464,752\n",
      "EarlyStopping counter: 4 out of 200\n"
     ]
    },
    {
     "name": "stderr",
     "output_type": "stream",
     "text": [
      "100%|██████████| 646/646 [00:01<00:00, 475.07it/s]\n"
     ]
    },
    {
     "name": "stdout",
     "output_type": "stream",
     "text": [
      "Epoch 157/200: RMSE_train: 1,282,951, RMSE_val: 1,437,465\n"
     ]
    },
    {
     "name": "stderr",
     "output_type": "stream",
     "text": [
      "100%|██████████| 646/646 [00:01<00:00, 476.02it/s]\n"
     ]
    },
    {
     "name": "stdout",
     "output_type": "stream",
     "text": [
      "Epoch 158/200: RMSE_train: 1,278,712, RMSE_val: 1,418,216\n"
     ]
    },
    {
     "name": "stderr",
     "output_type": "stream",
     "text": [
      "100%|██████████| 646/646 [00:01<00:00, 479.50it/s]\n"
     ]
    },
    {
     "name": "stdout",
     "output_type": "stream",
     "text": [
      "Epoch 159/200: RMSE_train: 1,271,171, RMSE_val: 1,428,832\n",
      "EarlyStopping counter: 1 out of 200\n"
     ]
    },
    {
     "name": "stderr",
     "output_type": "stream",
     "text": [
      "100%|██████████| 646/646 [00:01<00:00, 481.18it/s]\n"
     ]
    },
    {
     "name": "stdout",
     "output_type": "stream",
     "text": [
      "Epoch 160/200: RMSE_train: 1,265,784, RMSE_val: 1,416,346\n"
     ]
    },
    {
     "name": "stderr",
     "output_type": "stream",
     "text": [
      "100%|██████████| 646/646 [00:01<00:00, 490.67it/s]\n"
     ]
    },
    {
     "name": "stdout",
     "output_type": "stream",
     "text": [
      "Epoch 161/200: RMSE_train: 1,260,282, RMSE_val: 1,417,521\n",
      "EarlyStopping counter: 1 out of 200\n"
     ]
    },
    {
     "name": "stderr",
     "output_type": "stream",
     "text": [
      "100%|██████████| 646/646 [00:01<00:00, 475.53it/s]\n"
     ]
    },
    {
     "name": "stdout",
     "output_type": "stream",
     "text": [
      "Epoch 162/200: RMSE_train: 1,254,941, RMSE_val: 1,410,149\n"
     ]
    },
    {
     "name": "stderr",
     "output_type": "stream",
     "text": [
      "100%|██████████| 646/646 [00:01<00:00, 471.24it/s]\n"
     ]
    },
    {
     "name": "stdout",
     "output_type": "stream",
     "text": [
      "Epoch 163/200: RMSE_train: 1,249,518, RMSE_val: 1,425,991\n",
      "EarlyStopping counter: 1 out of 200\n"
     ]
    },
    {
     "name": "stderr",
     "output_type": "stream",
     "text": [
      "100%|██████████| 646/646 [00:01<00:00, 480.97it/s]\n"
     ]
    },
    {
     "name": "stdout",
     "output_type": "stream",
     "text": [
      "Epoch 164/200: RMSE_train: 1,244,537, RMSE_val: 1,413,822\n",
      "EarlyStopping counter: 2 out of 200\n"
     ]
    },
    {
     "name": "stderr",
     "output_type": "stream",
     "text": [
      "100%|██████████| 646/646 [00:01<00:00, 475.85it/s]\n"
     ]
    },
    {
     "name": "stdout",
     "output_type": "stream",
     "text": [
      "Epoch 165/200: RMSE_train: 1,239,260, RMSE_val: 1,407,610\n"
     ]
    },
    {
     "name": "stderr",
     "output_type": "stream",
     "text": [
      "100%|██████████| 646/646 [00:01<00:00, 445.20it/s]\n"
     ]
    },
    {
     "name": "stdout",
     "output_type": "stream",
     "text": [
      "Epoch 166/200: RMSE_train: 1,233,059, RMSE_val: 1,444,151\n",
      "EarlyStopping counter: 1 out of 200\n"
     ]
    },
    {
     "name": "stderr",
     "output_type": "stream",
     "text": [
      "100%|██████████| 646/646 [00:01<00:00, 485.26it/s]\n"
     ]
    },
    {
     "name": "stdout",
     "output_type": "stream",
     "text": [
      "Epoch 167/200: RMSE_train: 1,227,343, RMSE_val: 1,443,160\n",
      "EarlyStopping counter: 2 out of 200\n"
     ]
    },
    {
     "name": "stderr",
     "output_type": "stream",
     "text": [
      "100%|██████████| 646/646 [00:01<00:00, 487.33it/s]\n"
     ]
    },
    {
     "name": "stdout",
     "output_type": "stream",
     "text": [
      "Epoch 168/200: RMSE_train: 1,223,213, RMSE_val: 1,458,501\n",
      "EarlyStopping counter: 3 out of 200\n"
     ]
    },
    {
     "name": "stderr",
     "output_type": "stream",
     "text": [
      "100%|██████████| 646/646 [00:01<00:00, 486.70it/s]\n"
     ]
    },
    {
     "name": "stdout",
     "output_type": "stream",
     "text": [
      "Epoch 169/200: RMSE_train: 1,217,609, RMSE_val: 1,443,540\n",
      "EarlyStopping counter: 4 out of 200\n"
     ]
    },
    {
     "name": "stderr",
     "output_type": "stream",
     "text": [
      "100%|██████████| 646/646 [00:01<00:00, 485.92it/s]\n"
     ]
    },
    {
     "name": "stdout",
     "output_type": "stream",
     "text": [
      "Epoch 170/200: RMSE_train: 1,212,124, RMSE_val: 1,388,215\n"
     ]
    },
    {
     "name": "stderr",
     "output_type": "stream",
     "text": [
      "100%|██████████| 646/646 [00:01<00:00, 483.76it/s]\n"
     ]
    },
    {
     "name": "stdout",
     "output_type": "stream",
     "text": [
      "Epoch 171/200: RMSE_train: 1,206,708, RMSE_val: 1,361,817\n"
     ]
    },
    {
     "name": "stderr",
     "output_type": "stream",
     "text": [
      "100%|██████████| 646/646 [00:01<00:00, 476.00it/s]\n"
     ]
    },
    {
     "name": "stdout",
     "output_type": "stream",
     "text": [
      "Epoch 172/200: RMSE_train: 1,199,704, RMSE_val: 1,367,213\n",
      "EarlyStopping counter: 1 out of 200\n"
     ]
    },
    {
     "name": "stderr",
     "output_type": "stream",
     "text": [
      "100%|██████████| 646/646 [00:01<00:00, 485.17it/s]\n"
     ]
    },
    {
     "name": "stdout",
     "output_type": "stream",
     "text": [
      "Epoch 173/200: RMSE_train: 1,195,015, RMSE_val: 1,367,921\n",
      "EarlyStopping counter: 2 out of 200\n"
     ]
    },
    {
     "name": "stderr",
     "output_type": "stream",
     "text": [
      "100%|██████████| 646/646 [00:01<00:00, 479.53it/s]\n"
     ]
    },
    {
     "name": "stdout",
     "output_type": "stream",
     "text": [
      "Epoch 174/200: RMSE_train: 1,187,695, RMSE_val: 1,385,498\n",
      "EarlyStopping counter: 3 out of 200\n"
     ]
    },
    {
     "name": "stderr",
     "output_type": "stream",
     "text": [
      "100%|██████████| 646/646 [00:01<00:00, 486.59it/s]\n"
     ]
    },
    {
     "name": "stdout",
     "output_type": "stream",
     "text": [
      "Epoch 175/200: RMSE_train: 1,182,410, RMSE_val: 1,369,618\n",
      "EarlyStopping counter: 4 out of 200\n"
     ]
    },
    {
     "name": "stderr",
     "output_type": "stream",
     "text": [
      "100%|██████████| 646/646 [00:01<00:00, 478.49it/s]\n"
     ]
    },
    {
     "name": "stdout",
     "output_type": "stream",
     "text": [
      "Epoch 176/200: RMSE_train: 1,176,553, RMSE_val: 1,360,776\n"
     ]
    },
    {
     "name": "stderr",
     "output_type": "stream",
     "text": [
      "100%|██████████| 646/646 [00:01<00:00, 442.95it/s]\n"
     ]
    },
    {
     "name": "stdout",
     "output_type": "stream",
     "text": [
      "Epoch 177/200: RMSE_train: 1,170,437, RMSE_val: 1,441,227\n",
      "EarlyStopping counter: 1 out of 200\n"
     ]
    },
    {
     "name": "stderr",
     "output_type": "stream",
     "text": [
      "100%|██████████| 646/646 [00:01<00:00, 479.90it/s]\n"
     ]
    },
    {
     "name": "stdout",
     "output_type": "stream",
     "text": [
      "Epoch 178/200: RMSE_train: 1,165,761, RMSE_val: 1,374,520\n",
      "EarlyStopping counter: 2 out of 200\n"
     ]
    },
    {
     "name": "stderr",
     "output_type": "stream",
     "text": [
      "100%|██████████| 646/646 [00:01<00:00, 459.25it/s]\n"
     ]
    },
    {
     "name": "stdout",
     "output_type": "stream",
     "text": [
      "Epoch 179/200: RMSE_train: 1,159,264, RMSE_val: 1,380,628\n",
      "EarlyStopping counter: 3 out of 200\n"
     ]
    },
    {
     "name": "stderr",
     "output_type": "stream",
     "text": [
      "100%|██████████| 646/646 [00:01<00:00, 449.08it/s]\n"
     ]
    },
    {
     "name": "stdout",
     "output_type": "stream",
     "text": [
      "Epoch 180/200: RMSE_train: 1,152,152, RMSE_val: 1,346,549\n"
     ]
    },
    {
     "name": "stderr",
     "output_type": "stream",
     "text": [
      "100%|██████████| 646/646 [00:01<00:00, 450.14it/s]\n"
     ]
    },
    {
     "name": "stdout",
     "output_type": "stream",
     "text": [
      "Epoch 181/200: RMSE_train: 1,146,639, RMSE_val: 1,337,229\n"
     ]
    },
    {
     "name": "stderr",
     "output_type": "stream",
     "text": [
      "100%|██████████| 646/646 [00:01<00:00, 453.98it/s]\n"
     ]
    },
    {
     "name": "stdout",
     "output_type": "stream",
     "text": [
      "Epoch 182/200: RMSE_train: 1,142,701, RMSE_val: 1,362,947\n",
      "EarlyStopping counter: 1 out of 200\n"
     ]
    },
    {
     "name": "stderr",
     "output_type": "stream",
     "text": [
      "100%|██████████| 646/646 [00:01<00:00, 458.35it/s]\n"
     ]
    },
    {
     "name": "stdout",
     "output_type": "stream",
     "text": [
      "Epoch 183/200: RMSE_train: 1,137,539, RMSE_val: 1,329,938\n"
     ]
    },
    {
     "name": "stderr",
     "output_type": "stream",
     "text": [
      "100%|██████████| 646/646 [00:01<00:00, 445.59it/s]\n"
     ]
    },
    {
     "name": "stdout",
     "output_type": "stream",
     "text": [
      "Epoch 184/200: RMSE_train: 1,130,127, RMSE_val: 1,349,177\n",
      "EarlyStopping counter: 1 out of 200\n"
     ]
    },
    {
     "name": "stderr",
     "output_type": "stream",
     "text": [
      "100%|██████████| 646/646 [00:01<00:00, 463.83it/s]\n"
     ]
    },
    {
     "name": "stdout",
     "output_type": "stream",
     "text": [
      "Epoch 185/200: RMSE_train: 1,124,644, RMSE_val: 1,326,937\n"
     ]
    },
    {
     "name": "stderr",
     "output_type": "stream",
     "text": [
      "100%|██████████| 646/646 [00:01<00:00, 475.98it/s]\n"
     ]
    },
    {
     "name": "stdout",
     "output_type": "stream",
     "text": [
      "Epoch 186/200: RMSE_train: 1,117,261, RMSE_val: 1,347,148\n",
      "EarlyStopping counter: 1 out of 200\n"
     ]
    },
    {
     "name": "stderr",
     "output_type": "stream",
     "text": [
      "100%|██████████| 646/646 [00:01<00:00, 469.69it/s]\n"
     ]
    },
    {
     "name": "stdout",
     "output_type": "stream",
     "text": [
      "Epoch 187/200: RMSE_train: 1,112,419, RMSE_val: 1,308,664\n"
     ]
    },
    {
     "name": "stderr",
     "output_type": "stream",
     "text": [
      "100%|██████████| 646/646 [00:01<00:00, 474.89it/s]\n"
     ]
    },
    {
     "name": "stdout",
     "output_type": "stream",
     "text": [
      "Epoch 188/200: RMSE_train: 1,105,884, RMSE_val: 1,444,184\n",
      "EarlyStopping counter: 1 out of 200\n"
     ]
    },
    {
     "name": "stderr",
     "output_type": "stream",
     "text": [
      "100%|██████████| 646/646 [00:01<00:00, 478.87it/s]\n"
     ]
    },
    {
     "name": "stdout",
     "output_type": "stream",
     "text": [
      "Epoch 189/200: RMSE_train: 1,099,324, RMSE_val: 1,328,665\n",
      "EarlyStopping counter: 2 out of 200\n"
     ]
    },
    {
     "name": "stderr",
     "output_type": "stream",
     "text": [
      "100%|██████████| 646/646 [00:01<00:00, 432.96it/s]\n"
     ]
    },
    {
     "name": "stdout",
     "output_type": "stream",
     "text": [
      "Epoch 190/200: RMSE_train: 1,094,592, RMSE_val: 2,412,379\n",
      "EarlyStopping counter: 3 out of 200\n"
     ]
    },
    {
     "name": "stderr",
     "output_type": "stream",
     "text": [
      "100%|██████████| 646/646 [00:01<00:00, 494.11it/s]\n"
     ]
    },
    {
     "name": "stdout",
     "output_type": "stream",
     "text": [
      "Epoch 191/200: RMSE_train: 1,085,970, RMSE_val: 2,969,023\n",
      "EarlyStopping counter: 4 out of 200\n"
     ]
    },
    {
     "name": "stderr",
     "output_type": "stream",
     "text": [
      "100%|██████████| 646/646 [00:01<00:00, 457.94it/s]\n"
     ]
    },
    {
     "name": "stdout",
     "output_type": "stream",
     "text": [
      "Epoch 192/200: RMSE_train: 1,082,193, RMSE_val: 1,393,903\n",
      "EarlyStopping counter: 5 out of 200\n"
     ]
    },
    {
     "name": "stderr",
     "output_type": "stream",
     "text": [
      "100%|██████████| 646/646 [00:01<00:00, 488.47it/s]\n"
     ]
    },
    {
     "name": "stdout",
     "output_type": "stream",
     "text": [
      "Epoch 193/200: RMSE_train: 1,076,605, RMSE_val: 2,717,056\n",
      "EarlyStopping counter: 6 out of 200\n"
     ]
    },
    {
     "name": "stderr",
     "output_type": "stream",
     "text": [
      "100%|██████████| 646/646 [00:01<00:00, 503.60it/s]\n"
     ]
    },
    {
     "name": "stdout",
     "output_type": "stream",
     "text": [
      "Epoch 194/200: RMSE_train: 1,068,991, RMSE_val: 2,450,066\n",
      "EarlyStopping counter: 7 out of 200\n"
     ]
    },
    {
     "name": "stderr",
     "output_type": "stream",
     "text": [
      "100%|██████████| 646/646 [00:01<00:00, 506.85it/s]\n"
     ]
    },
    {
     "name": "stdout",
     "output_type": "stream",
     "text": [
      "Epoch 195/200: RMSE_train: 1,062,855, RMSE_val: 2,583,382\n",
      "EarlyStopping counter: 8 out of 200\n"
     ]
    },
    {
     "name": "stderr",
     "output_type": "stream",
     "text": [
      "100%|██████████| 646/646 [00:01<00:00, 503.29it/s]\n"
     ]
    },
    {
     "name": "stdout",
     "output_type": "stream",
     "text": [
      "Epoch 196/200: RMSE_train: 1,056,938, RMSE_val: 1,561,501\n",
      "EarlyStopping counter: 9 out of 200\n"
     ]
    },
    {
     "name": "stderr",
     "output_type": "stream",
     "text": [
      "100%|██████████| 646/646 [00:01<00:00, 509.12it/s]\n"
     ]
    },
    {
     "name": "stdout",
     "output_type": "stream",
     "text": [
      "Epoch 197/200: RMSE_train: 1,050,553, RMSE_val: 1,365,581\n",
      "EarlyStopping counter: 10 out of 200\n"
     ]
    },
    {
     "name": "stderr",
     "output_type": "stream",
     "text": [
      "100%|██████████| 646/646 [00:01<00:00, 456.63it/s]\n"
     ]
    },
    {
     "name": "stdout",
     "output_type": "stream",
     "text": [
      "Epoch 198/200: RMSE_train: 1,046,947, RMSE_val: 1,584,106\n",
      "EarlyStopping counter: 11 out of 200\n"
     ]
    },
    {
     "name": "stderr",
     "output_type": "stream",
     "text": [
      "100%|██████████| 646/646 [00:01<00:00, 505.44it/s]\n"
     ]
    },
    {
     "name": "stdout",
     "output_type": "stream",
     "text": [
      "Epoch 199/200: RMSE_train: 1,038,747, RMSE_val: 1,609,404\n",
      "EarlyStopping counter: 12 out of 200\n"
     ]
    },
    {
     "name": "stderr",
     "output_type": "stream",
     "text": [
      "100%|██████████| 646/646 [00:01<00:00, 496.04it/s]"
     ]
    },
    {
     "name": "stdout",
     "output_type": "stream",
     "text": [
      "Epoch 200/200: RMSE_train: 1,032,421, RMSE_val: 2,082,539\n",
      "EarlyStopping counter: 13 out of 200\n"
     ]
    },
    {
     "name": "stderr",
     "output_type": "stream",
     "text": [
      "\n"
     ]
    }
   ],
   "source": [
    "# # Do not train if already trained\n",
    "# if Path(f'../models/{model_name}/state_dict.pt').is_file() and Path(f'../models/{model_name}/history.csv').is_file():\n",
    "#     # Load optimal weights and history\n",
    "#     model.load_state_dict(torch.load(f'../models/{model_name}/state_dict.pt'))\n",
    "#     history = pd.read_csv(f'../models/{model_name}/history.csv', index_col=0)\n",
    "#     print('Skipping training and loading optimal weights from previous training!')\n",
    "# else:\n",
    "# Train model\n",
    "model, history = sf.train_model(\n",
    "    model=model,\n",
    "    dataset_train=subsets['train'],\n",
    "    dataset_val=subsets['val'],\n",
    "\n",
    "    # Define loss & optimizer\n",
    "    loss_function=nn.MSELoss().to(device),\n",
    "    optimizer=optim.Adam(params=model.parameters(), lr=.001),\n",
    "\n",
    "    # Define computing device\n",
    "    device=device,\n",
    "\n",
    "    # Define training parameters\n",
    "    epochs=200,\n",
    "    patience=200,\n",
    "    delta=0,\n",
    "    batch_size=64,\n",
    "    shuffle=True,\n",
    "    num_workers=0,\n",
    "    pin_memory=True,\n",
    "\n",
    "    # Define save locations\n",
    "    save_state_dict_as=f'../models/{model_name}/state_dict.pt',\n",
    "    save_history_as=f'../models/{model_name}/history.csv'\n",
    "    )"
   ]
  },
  {
   "cell_type": "code",
   "execution_count": 14,
   "metadata": {},
   "outputs": [],
   "source": [
    "# Generate model predictions\n",
    "predictions = sf.get_predictions(model, dataset, subset_index, device, save_as=f'../models/{model_name}/predictions.csv')"
   ]
  },
  {
   "cell_type": "code",
   "execution_count": 15,
   "metadata": {},
   "outputs": [
    {
     "name": "stdout",
     "output_type": "stream",
     "text": [
      "Subset         RMSE         MAE   MAPE      R2\n",
      "----------------------------------------------\n",
      "train   1086106.574  693558.811  0.532   0.243\n",
      "val     1310490.197  739135.989  0.559  -0.121\n",
      "test    1307677.094  735042.808  0.544  -0.105\n",
      "----------------------------------------------\n",
      "total   1157356.606  706412.725  0.537   0.138\n"
     ]
    }
   ],
   "source": [
    "# Compute performance metrics\n",
    "metrics = sf.get_metrics(predictions, subset_keys, save_as=f'../models/{model_name}/perf_metrics.csv')"
   ]
  },
  {
   "cell_type": "code",
   "execution_count": 16,
   "metadata": {},
   "outputs": [
    {
     "data": {
      "image/png": "[encoded data removed]",
      "text/plain": [
       "<Figure size 504x320 with 1 Axes>"
      ]
     },
     "metadata": {},
     "output_type": "display_data"
    }
   ],
   "source": [
    "# Plot training history\n",
    "sf.plot_history(history, save_as=f'../models/{model_name}/history.pdf')"
   ]
  },
  {
   "cell_type": "code",
   "execution_count": 17,
   "metadata": {},
   "outputs": [
    {
     "data": {
      "image/png": "[encoded data removed]",
      "text/plain": [
       "<Figure size 504x320 with 2 Axes>"
      ]
     },
     "metadata": {},
     "output_type": "display_data"
    }
   ],
   "source": [
    "# Plot predictions vs actuals\n",
    "sf.plot_pred_vs_actual(predictions, save_as=f'../models/{model_name}/predictions_vs_actuals.pdf')"
   ]
  }
 ],
 "metadata": {
  "kernelspec": {
   "display_name": "bachelors_thesis",
   "language": "python",
   "name": "python3"
  },
  "language_info": {
   "codemirror_mode": {
    "name": "ipython",
    "version": 3
   },
   "file_extension": ".py",
   "mimetype": "text/x-python",
   "name": "python",
   "nbconvert_exporter": "python",
   "pygments_lexer": "ipython3",
   "version": "3.11.0"
  },
  "orig_nbformat": 4
 },
 "nbformat": 4,
 "nbformat_minor": 2
}
