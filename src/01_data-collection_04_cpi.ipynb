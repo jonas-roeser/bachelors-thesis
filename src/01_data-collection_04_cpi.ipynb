{
 "cells": [
  {
   "cell_type": "code",
   "execution_count": 115,
   "metadata": {},
   "outputs": [],
   "source": [
    "# Load packages\n",
    "import pandas as pd\n",
    "import requests\n",
    "import json\n",
    "from pathlib import Path"
   ]
  },
  {
   "cell_type": "code",
   "execution_count": 116,
   "metadata": {},
   "outputs": [],
   "source": [
    "# Define file path and file name\n",
    "file_path = '../data/raw/'\n",
    "file_name = 'consumer-price-index_us_1982-84_2022'"
   ]
  },
  {
   "cell_type": "code",
   "execution_count": 117,
   "metadata": {},
   "outputs": [],
   "source": [
    "# Define series id for API request\n",
    "seriesid = 'CUUR0000SA0' # CPI for All Urban Consumers (CPI-U) 1982-84=100 (Unadjusted) - CUUR0000SA0"
   ]
  },
  {
   "cell_type": "code",
   "execution_count": 118,
   "metadata": {},
   "outputs": [],
   "source": [
    "# Request series data from API\n",
    "headers = {'Content-type': 'application/json'}\n",
    "data = json.dumps({\n",
    "    'seriesid': [seriesid],\n",
    "    'startyear': 2022,\n",
    "    'endyear': 2022\n",
    "    })\n",
    "r = requests.post('https://api.bls.gov/publicAPI/v1/timeseries/data/', headers=headers, data=data)"
   ]
  },
  {
   "cell_type": "code",
   "execution_count": 119,
   "metadata": {},
   "outputs": [],
   "source": [
    "# Create data frame from json response\n",
    "df = pd.DataFrame.from_dict(r.json()['Results']['series'][0])"
   ]
  },
  {
   "cell_type": "code",
   "execution_count": 120,
   "metadata": {},
   "outputs": [],
   "source": [
    "# Split data column into individual columns\n",
    "df = df.data.apply(pd.Series)"
   ]
  },
  {
   "cell_type": "code",
   "execution_count": 121,
   "metadata": {},
   "outputs": [],
   "source": [
    "# Create monthly period index\n",
    "df.period = df.year + df.period\n",
    "df.period = df.period.str.replace('M', '-')\n",
    "df.index = pd.DatetimeIndex(df.period).to_period('M')"
   ]
  },
  {
   "cell_type": "code",
   "execution_count": 122,
   "metadata": {},
   "outputs": [],
   "source": [
    "# Drop superfluous columns\n",
    "df = df[['value']]"
   ]
  },
  {
   "cell_type": "code",
   "execution_count": 123,
   "metadata": {},
   "outputs": [],
   "source": [
    "# Sort values by month\n",
    "df.sort_index(inplace=True)"
   ]
  },
  {
   "cell_type": "code",
   "execution_count": 124,
   "metadata": {},
   "outputs": [],
   "source": [
    "# Save CPI data\n",
    "df.to_csv(f'{file_path}{file_name}.csv')"
   ]
  }
 ],
 "metadata": {
  "kernelspec": {
   "display_name": "bachelors_thesis",
   "language": "python",
   "name": "python3"
  },
  "language_info": {
   "codemirror_mode": {
    "name": "ipython",
    "version": 3
   },
   "file_extension": ".py",
   "mimetype": "text/x-python",
   "name": "python",
   "nbconvert_exporter": "python",
   "pygments_lexer": "ipython3",
   "version": "3.11.0"
  },
  "orig_nbformat": 4
 },
 "nbformat": 4,
 "nbformat_minor": 2
}
