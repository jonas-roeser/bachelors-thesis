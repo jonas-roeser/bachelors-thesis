{
 "cells": [
  {
   "cell_type": "code",
   "execution_count": 84,
   "metadata": {},
   "outputs": [],
   "source": [
    "# Load packages\n",
    "import numpy as np\n",
    "import pandas as pd\n",
    "import matplotlib.pyplot as plt\n",
    "import cv2\n",
    "import geopandas as gpd\n",
    "import geodatasets"
   ]
  },
  {
   "cell_type": "code",
   "execution_count": 85,
   "metadata": {},
   "outputs": [],
   "source": [
    "# Define file path and file name\n",
    "model_path = '../models/'\n",
    "model_name = 'basicModel'\n",
    "image_path = '../data/raw/satellite-images_new-york-city_2022/'"
   ]
  },
  {
   "cell_type": "code",
   "execution_count": 86,
   "metadata": {},
   "outputs": [],
   "source": [
    "# Load data\n",
    "df = pd.read_csv(f'{model_path}/{model_name}/metrics_test.csv')\n",
    "# Load the image\n",
    "img = cv2.imread(f'{image_path}1.png')\n",
    "# cv2 stores colors as BGR instead of RGB\n",
    "img = cv2.cvtColor(img, cv2.COLOR_BGR2RGB)"
   ]
  },
  {
   "cell_type": "code",
   "execution_count": 87,
   "metadata": {},
   "outputs": [],
   "source": [
    "nybb = gpd.read_file(geodatasets.get_path('nybb'))\n",
    "nybb = nybb.to_crs(4326)"
   ]
  },
  {
   "cell_type": "code",
   "execution_count": 88,
   "metadata": {},
   "outputs": [],
   "source": [
    "# Change font to LaTeX\n",
    "plt.rcParams.update({\n",
    "    'text.usetex': True,\n",
    "    'font.family': 'serif',\n",
    "    'font.serif': [],\n",
    "\n",
    "    # Fine-tune font-size\n",
    "    'font.size': 12.0, # 10.0\n",
    "    'figure.titlesize': 14.4, # 'large' (12.0)\n",
    "    'figure.labelsize': 12.0, # 'large' (12.0)\n",
    "    'axes.titlesize': 12.0, # 'large' (12.0)\n",
    "    'axes.labelsize': 10.95, # 'medium' (10.0)\n",
    "    'legend.title_fontsize': 10.95, # None (10.0)\n",
    "    'legend.fontsize': 10.0, # 'medium' (10.0)\n",
    "    'xtick.labelsize': 10.0, # 'medium' (10.0)\n",
    "    'ytick.labelsize': 10.0 # 'medium' (10.0)\n",
    "    })"
   ]
  },
  {
   "cell_type": "code",
   "execution_count": 95,
   "metadata": {},
   "outputs": [],
   "source": [
    "def plot_history(model_name):\n",
    "    # Loading data\n",
    "    history = pd.read_csv(f'../models/{model_name}/history.csv',\n",
    "        header=0,\n",
    "        index_col='epoch')\n",
    "\n",
    "    # Defining variables for plotting\n",
    "    x = history.index + 1\n",
    "    y1 = history.loss_train\n",
    "    y2 = history.loss_val\n",
    "\n",
    "    # Plotting data\n",
    "    fig = plt.figure(figsize=(6.25,4), dpi=300)\n",
    "    ax = plt.subplot(1, 1, 1)\n",
    "    ax.plot(x, y1, linestyle='dashed', color='black', label='$RMSE_{train}$')\n",
    "    ax.plot(x, y2, color='#c1272d', label='$RMSE_{val}$')\n",
    "\n",
    "    # Defining axis limits\n",
    "    max_x = max(x)\n",
    "    min_x = min(x)\n",
    "    max_y = max(max(y1), max(y2))\n",
    "    min_y = min(min(y1), min(y2))\n",
    "\n",
    "    # Setting axis limits\n",
    "    ax.set_xlim(min_x, max_x)\n",
    "    ax.set_ylim(min_y - 0.1 * (max_y - min_y), max_y + 0.1 * (max_y - min_y))\n",
    "\n",
    "    # Creating labels and legend\n",
    "    ax.set_xlabel('Epoch')\n",
    "    ax.set_ylabel('MSE')\n",
    "    ax.legend(frameon=False)\n",
    "\n",
    "    # Saving plot\n",
    "    file_name = f'../models/{model_name}/history'\n",
    "    plt.savefig(f'{file_name}.png', transparent=True, bbox_inches='tight')\n",
    "    plt.close()"
   ]
  },
  {
   "cell_type": "code",
   "execution_count": 96,
   "metadata": {},
   "outputs": [],
   "source": [
    "plot_history('basicModel')"
   ]
  },
  {
   "cell_type": "code",
   "execution_count": null,
   "metadata": {},
   "outputs": [],
   "source": [
    "# Create a GeoDataFrame with a single polygon representing the extent of the image\n",
    "min_lon, max_lon = YOUR_MIN_LONGITUDE, YOUR_MAX_LONGITUDE\n",
    "min_lat, max_lat = YOUR_MIN_LATITUDE, YOUR_MAX_LATITUDE\n",
    "\n",
    "geometry = gpd.GeoSeries([Polygon([(min_lon, min_lat), (min_lon, max_lat), (max_lon, max_lat), (max_lon, min_lat)])])\n",
    "gdf = gpd.GeoDataFrame(geometry=geometry)\n",
    "\n",
    "# Set the Coordinate Reference System (CRS) of the GeoDataFrame\n",
    "gdf.crs = 'EPSG:4326'  # Assuming WGS84 geographic CRS\n",
    "\n",
    "# Plot the GeoDataFrame with the satellite image as the background\n",
    "fig, ax = plt.subplots(figsize=(10, 8))\n",
    "gdf.plot(ax=ax, facecolor='none', edgecolor='black')\n",
    "ax.imshow(image, extent=(min_lon, max_lon, min_lat, max_lat), origin='upper')\n",
    "\n",
    "# Add gridlines and labels\n",
    "ax.set_xticks([min_lon, max_lon], crs='EPSG:4326')\n",
    "ax.set_yticks([min_lat, max_lat], crs='EPSG:4326')\n",
    "ax.gridlines(draw_labels=True, linestyle='--')\n",
    "\n",
    "# Set the title of the plot\n",
    "ax.set_title('Satellite Image')\n",
    "\n",
    "# Show the plot\n",
    "plt.show()"
   ]
  },
  {
   "cell_type": "code",
   "execution_count": 83,
   "metadata": {},
   "outputs": [
    {
     "data": {
      "image/png": "[encoded data removed]",
      "text/plain": [
       "<Figure size 630x400 with 1 Axes>"
      ]
     },
     "metadata": {},
     "output_type": "display_data"
    }
   ],
   "source": [
    "# Initialise figure\n",
    "textwidth = 6.3 # a4_width - 2 * margin = 8.3in - 2 * 2in = 6.3in\n",
    "fig, ax = plt.subplots(figsize=(textwidth, 4))\n",
    "\n",
    "# Plot data\n",
    "ax.imshow(img, extent=(-73.8, 73.9, 40.8, 40.9))\n",
    "nybb.plot(ax=ax, alpha=0.5, edgecolor=\"k\")\n",
    "\n",
    "# Set labels\n",
    "ax.set_xlabel('Longitude')\n",
    "ax.set_ylabel('Latitude')\n",
    "\n",
    "# Set axis ticks\n",
    "# ax.xaxis.set_major_locator(matplotlib.dates.DayLocator(interval=1, tz='EST'))\n",
    "# ax.xaxis.set_major_formatter(matplotlib.dates.DateFormatter('%m-%d\\n%a', usetex=False))\n",
    "\n",
    "# Set axis limits\n",
    "# x_min = min(df.index)\n",
    "# x_max = max(df.index)\n",
    "# y_min = min(min(df.col1), min(df.col2))\n",
    "# y_max = max(max(df.col1), max(df.col2))\n",
    "# ax.set_xlim(x_min, x_max + pd.Timedelta(.5, 'days'))\n",
    "# ax.set_ylim(y_min - 0.1 * (y_max - y_min), y_max + 0.1 * (y_max - y_min))\n",
    "\n",
    "# Remove figure padding\n",
    "plt.tight_layout(pad=0.1) # pad=0 can lead to text being cut off\n",
    "left = max(fig.subplotpars.left, 1 - fig.subplotpars.right)\n",
    "spine_top_rel_height = ax.spines['top'].get_linewidth() / 72 / fig.get_size_inches()[1]\n",
    "fig.subplots_adjust( # does not work in .ipynb\n",
    "    left=left,\n",
    "    right=1 - left,\n",
    "    top=1 - .5 * spine_top_rel_height if ax.get_title() == '' else fig.subplotpars.top)\n",
    "\n",
    "# Save figure\n",
    "fig.savefig(f'{model_path}/{model_name}/figure.pdf', dpi=300) # set dpi for any rasterized parts of figure\n",
    "plt.show()\n",
    "plt.close()"
   ]
  },
  {
   "cell_type": "code",
   "execution_count": 65,
   "metadata": {},
   "outputs": [],
   "source": [
    "nybb = gpd.read_file(geodatasets.get_path('nybb'))\n",
    "nybb = nybb.to_crs(4326)"
   ]
  },
  {
   "cell_type": "code",
   "execution_count": 69,
   "metadata": {},
   "outputs": [
    {
     "ename": "NameError",
     "evalue": "name 'nybb' is not defined",
     "output_type": "error",
     "traceback": [
      "\u001b[0;31m---------------------------------------------------------------------------\u001b[0m",
      "\u001b[0;31mNameError\u001b[0m                                 Traceback (most recent call last)",
      "Cell \u001b[0;32mIn[69], line 1\u001b[0m\n\u001b[0;32m----> 1\u001b[0m ax \u001b[39m=\u001b[39m nybb\u001b[39m.\u001b[39mplot(alpha\u001b[39m=\u001b[39m\u001b[39m0.5\u001b[39m, edgecolor\u001b[39m=\u001b[39m\u001b[39m\"\u001b[39m\u001b[39mk\u001b[39m\u001b[39m\"\u001b[39m)\n",
      "\u001b[0;31mNameError\u001b[0m: name 'nybb' is not defined"
     ]
    }
   ],
   "source": [
    "ax = nybb.plot(alpha=0.5, edgecolor=\"k\")"
   ]
  }
 ],
 "metadata": {
  "kernelspec": {
   "display_name": "bachelors_thesis",
   "language": "python",
   "name": "python3"
  },
  "language_info": {
   "codemirror_mode": {
    "name": "ipython",
    "version": 3
   },
   "file_extension": ".py",
   "mimetype": "text/x-python",
   "name": "python",
   "nbconvert_exporter": "python",
   "pygments_lexer": "ipython3",
   "version": "3.11.0"
  },
  "orig_nbformat": 4
 },
 "nbformat": 4,
 "nbformat_minor": 2
}
