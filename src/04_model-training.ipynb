{
 "cells": [
  {
   "cell_type": "code",
   "execution_count": 6,
   "metadata": {},
   "outputs": [],
   "source": [
    "# Set local path, remote IP and ssh key\n",
    "local_path = '~/Library/CloudStorage/OneDrive-Personal/02_Education/02_Bachelor_Business-Administration/Bachelors-Thesis/Repository/'\n",
    "remote_ip = '209.20.157.171'\n",
    "ssh_key = '~/.ssh/id_ed25519'"
   ]
  },
  {
   "cell_type": "code",
   "execution_count": 8,
   "metadata": {},
   "outputs": [
    {
     "name": "stdout",
     "output_type": "stream",
     "text": [
      "# 209.20.157.171:22 SSH-2.0-OpenSSH_8.2p1 Ubuntu-4ubuntu0.5\n",
      "# 209.20.157.171:22 SSH-2.0-OpenSSH_8.2p1 Ubuntu-4ubuntu0.5\n",
      "# 209.20.157.171:22 SSH-2.0-OpenSSH_8.2p1 Ubuntu-4ubuntu0.5\n",
      "# 209.20.157.171:22 SSH-2.0-OpenSSH_8.2p1 Ubuntu-4ubuntu0.5\n",
      "# 209.20.157.171:22 SSH-2.0-OpenSSH_8.2p1 Ubuntu-4ubuntu0.5\n"
     ]
    }
   ],
   "source": [
    "# Add remote IP to known hosts\n",
    "!ssh-keyscan -H {remote_ip} >> ~/.ssh/known_hosts"
   ]
  },
  {
   "cell_type": "code",
   "execution_count": 9,
   "metadata": {},
   "outputs": [
    {
     "name": "stdout",
     "output_type": "stream",
     "text": [
      "02_data_exploration.ipynb                     100% 3998    28.2KB/s   00:00    \n",
      "01_data-collection_satellite-images.ipynb     100% 3869    27.1KB/s   00:00    \n",
      "01_data-collection_cpi_us.ipynb               100% 2976    21.3KB/s   00:00    \n",
      "urlsigner.cpython-311.pyc                     100% 2148    15.2KB/s   00:00    \n",
      "05_visualization.ipynb                        100%    0     0.0KB/s   00:00    \n",
      "04_modeling.ipynb                             100%    0     0.0KB/s   00:00    \n",
      "shared_functions.py                           100% 4043    26.5KB/s   00:00    \n",
      "03_data-pre-processing.ipynb                  100%    0     0.0KB/s   00:00    \n",
      "data-pre-processing_property-sales_geocoded.i 100%  143KB 345.6KB/s   00:00    \n",
      "01_data-collection_property-sales.ipynb       100% 2631    18.9KB/s   00:00    \n",
      "04_model-training.ipynb                       100% 2196    15.9KB/s   00:00    \n",
      "urlsigner.py                                  100% 1603    11.6KB/s   00:00    \n"
     ]
    }
   ],
   "source": [
    "# Copy local src folder to remote\n",
    "!scp -r -i {ssh_key} {local_path + 'src/'} ubuntu@{remote_ip}:~/."
   ]
  },
  {
   "cell_type": "code",
   "execution_count": null,
   "metadata": {},
   "outputs": [],
   "source": [
    "# Copy local data folder to remote\n",
    "!scp -r -i {ssh_key} {local_path + 'data/processed/'} ubuntu@{remote_ip}:~/."
   ]
  },
  {
   "cell_type": "code",
   "execution_count": 10,
   "metadata": {},
   "outputs": [],
   "source": [
    "# Copy remote model folder to local machine\n",
    "!scp -r -i {ssh_key} ubuntu@{remote_ip}:~/models/ {local_path + '.'}"
   ]
  }
 ],
 "metadata": {
  "kernelspec": {
   "display_name": "bachelors_thesis",
   "language": "python",
   "name": "python3"
  },
  "language_info": {
   "codemirror_mode": {
    "name": "ipython",
    "version": 3
   },
   "file_extension": ".py",
   "mimetype": "text/x-python",
   "name": "python",
   "nbconvert_exporter": "python",
   "pygments_lexer": "ipython3",
   "version": "3.11.0"
  },
  "orig_nbformat": 4
 },
 "nbformat": 4,
 "nbformat_minor": 2
}
