{
 "cells": [
  {
   "cell_type": "code",
   "execution_count": 1,
   "metadata": {},
   "outputs": [],
   "source": [
    "# Set local path, remote IP and ssh key\n",
    "local_path = '~/Library/CloudStorage/OneDrive-Personal/02_Education/02_Bachelor_Business-Administration/Bachelors-Thesis/Repository/'\n",
    "remote_ip = '209.20.157.51'\n",
    "ssh_key = '~/.ssh/id_ed25519'"
   ]
  },
  {
   "cell_type": "code",
   "execution_count": 5,
   "metadata": {},
   "outputs": [
    {
     "name": "stdout",
     "output_type": "stream",
     "text": [
      "# 209.20.157.51:22 SSH-2.0-OpenSSH_8.2p1 Ubuntu-4ubuntu0.5\n",
      "# 209.20.157.51:22 SSH-2.0-OpenSSH_8.2p1 Ubuntu-4ubuntu0.5\n",
      "# 209.20.157.51:22 SSH-2.0-OpenSSH_8.2p1 Ubuntu-4ubuntu0.5\n",
      "# 209.20.157.51:22 SSH-2.0-OpenSSH_8.2p1 Ubuntu-4ubuntu0.5\n",
      "# 209.20.157.51:22 SSH-2.0-OpenSSH_8.2p1 Ubuntu-4ubuntu0.5\n"
     ]
    }
   ],
   "source": [
    "# Add remote IP to known hosts\n",
    "# !ssh-keyscan -H {remote_ip} >> ~/.ssh/known_hosts"
   ]
  },
  {
   "cell_type": "code",
   "execution_count": 6,
   "metadata": {},
   "outputs": [
    {
     "name": "stdout",
     "output_type": "stream",
     "text": [
      "02_data_exploration.ipynb                     100% 1774KB   1.3MB/s   00:01    \n",
      ".DS_Store                                     100% 6148    44.5KB/s   00:00    \n",
      "pytorch_utils.py                              100% 3214    23.2KB/s   00:00    \n",
      "04_modeling_MultiModalModel_2IMG.ipynb        100%   79KB 287.7KB/s   00:00    \n",
      "04_modeling_LinearBaselineModel.ipynb         100%   74KB 267.7KB/s   00:00    \n",
      "04_modeling_MLPModel.ipynb                    100%   74KB 269.3KB/s   00:00    \n",
      "01_data-collection_02_geocoding.ipynb         100%   11KB  78.5KB/s   00:00    \n",
      "pytorchutils.cpython-311.pyc                  100% 5409    39.2KB/s   00:00    \n",
      "urlsigner.cpython-311.pyc                     100% 2148    15.6KB/s   00:00    \n",
      "pytorch_utils.cpython-311.pyc                 100% 5410    38.5KB/s   00:00    \n",
      "shared_functions.cpython-38.pyc               100%   24KB 171.2KB/s   00:00    \n",
      "urlsigner.cpython-38.pyc                      100% 1260     9.1KB/s   00:00    \n",
      "shared_functions.cpython-311.pyc              100%   56KB 204.4KB/s   00:00    \n",
      "pytorchtools.cpython-311.pyc                  100% 3252    23.5KB/s   00:00    \n",
      "04_modeling_NaiveBaseline.ipynb               100%   23KB 166.1KB/s   00:00    \n",
      "04_modeling_LinearBaselineModel_OneHot.ipynb  100%   81KB 293.2KB/s   00:00    \n",
      "04_modeling_MultiModalModel_1IMG.ipynb        100%   94KB 339.6KB/s   00:00    \n",
      "shared_functions.py                           100%   47KB 173.4KB/s   00:00    \n",
      "03_data-pre-processing.ipynb                  100%   29KB 214.6KB/s   00:00    \n",
      "01_data-collection_03_satellite-images.ipynb  100% 3899    28.0KB/s   00:00    \n",
      "01_data-collection_01_property-sales.ipynb    100% 2769    20.1KB/s   00:00    \n",
      "04_modeling_MultiModalModel-checkpoint.ipynb  100%  179KB 642.1KB/s   00:00    \n",
      "01_data-collection_04_cpi.ipynb               100% 3517    25.4KB/s   00:00    \n",
      "04_model-training.ipynb                       100% 4424    32.0KB/s   00:00    \n",
      "urlsigner.py                                  100% 1603    11.6KB/s   00:00    \n"
     ]
    }
   ],
   "source": [
    "# Copy local src folder to remote\n",
    "# !scp -r -i {ssh_key} {local_path + 'src/'} ubuntu@{remote_ip}:~/."
   ]
  },
  {
   "cell_type": "code",
   "execution_count": 3,
   "metadata": {},
   "outputs": [
    {
     "name": "stdout",
     "output_type": "stream",
     "text": [
      "subset_sizes.csv                              100%  133     1.0KB/s   00:00    \n",
      ".DS_Store                                     100% 6148    44.3KB/s   00:00    \n",
      "subset_keys.csv                               100%   17     0.1KB/s   00:00    \n",
      "property-sales_new-york-city_2022_pre-process 100% 1258     9.1KB/s   00:00    \n",
      "property-sales_new-york-city_2022_pre-process 100%   11MB   5.6MB/s   00:01    \n",
      "subset_index.csv                              100%  662KB   2.2MB/s   00:00    \n",
      "property-sales_new-york-city_2022_pre-process 100% 3051KB   6.7MB/s   00:00    \n"
     ]
    }
   ],
   "source": [
    "# Copy local processed data to remote\n",
    "# !scp -r -i {ssh_key} {local_path + 'data/processed/'} ubuntu@{remote_ip}:~/data/processed"
   ]
  },
  {
   "cell_type": "code",
   "execution_count": 13,
   "metadata": {},
   "outputs": [
    {
     "name": "stdout",
     "output_type": "stream",
     "text": [
      "satellite-images_new-york-city_2022_640x640_1 100%   28GB  10.5MB/s   45:49    \n",
      "satellite-images_new-york-city_2022_640x640_1 100%   25GB   9.5MB/s   44:41    \n"
     ]
    }
   ],
   "source": [
    "# Copy satellite images to remote\n",
    "# !scp -r -i {ssh_key} {local_path + 'data/raw/satellite-images_new-york-city_2022_640x640_16.tgz'} ubuntu@{remote_ip}:~/data/raw\n",
    "# !scp -r -i {ssh_key} {local_path + 'data/raw/satellite-images_new-york-city_2022_640x640_19.tgz'} ubuntu@{remote_ip}:~/data/raw"
   ]
  },
  {
   "cell_type": "code",
   "execution_count": 10,
   "metadata": {},
   "outputs": [],
   "source": [
    "# Copy remote model folder to local machine\n",
    "# !scp -r -i {ssh_key} ubuntu@{remote_ip}:~/models/ {local_path + '.'}"
   ]
  },
  {
   "cell_type": "code",
   "execution_count": 1,
   "metadata": {},
   "outputs": [
    {
     "name": "stdout",
     "output_type": "stream",
     "text": [
      "zsh:1: parse error near `}'\n"
     ]
    }
   ],
   "source": [
    "# Copy remote src folder to local machine\n",
    "# !scp -r -i {ssh_key} ubuntu@{remote_ip}:~/src/ {local_path + '.'}"
   ]
  },
  {
   "cell_type": "code",
   "execution_count": null,
   "metadata": {},
   "outputs": [],
   "source": [
    "# Note: Command for watching GPU utilisation\n",
    "# watch nvidia-smi"
   ]
  },
  {
   "cell_type": "code",
   "execution_count": null,
   "metadata": {},
   "outputs": [],
   "source": [
    "# Note: run jupyter notebook from terminal\n",
    "# ipython -c \"%run <notebook>.ipynb\"\n",
    "# jupyter nbconvert --execute --to notebook --inplace <notebook>"
   ]
  }
 ],
 "metadata": {
  "kernelspec": {
   "display_name": "bachelors_thesis",
   "language": "python",
   "name": "python3"
  },
  "language_info": {
   "codemirror_mode": {
    "name": "ipython",
    "version": 3
   },
   "file_extension": ".py",
   "mimetype": "text/x-python",
   "name": "python",
   "nbconvert_exporter": "python",
   "pygments_lexer": "ipython3",
   "version": "3.11.0"
  },
  "orig_nbformat": 4
 },
 "nbformat": 4,
 "nbformat_minor": 2
}
