{
 "cells": [
  {
   "cell_type": "code",
   "execution_count": 1,
   "metadata": {},
   "outputs": [],
   "source": [
    "import numpy as np\n",
    "import pandas as pd\n",
    "import cv2\n",
    "import matplotlib.pyplot as plt\n",
    "import shared_functions as sf"
   ]
  },
  {
   "cell_type": "code",
   "execution_count": 2,
   "metadata": {},
   "outputs": [],
   "source": [
    "# Load data\n",
    "df = pd.read_parquet(f'../data/raw/property-sales_new-york-city_2022_geocoded.parquet')"
   ]
  },
  {
   "cell_type": "code",
   "execution_count": 3,
   "metadata": {},
   "outputs": [],
   "source": [
    "# Use most recent pandas data types (e.g. pd.NA)\n",
    "df = df.convert_dtypes()"
   ]
  },
  {
   "cell_type": "code",
   "execution_count": 4,
   "metadata": {},
   "outputs": [],
   "source": [
    "# Generate data overview\n",
    "data_overview = sf.data_overview(df)"
   ]
  },
  {
   "cell_type": "code",
   "execution_count": 5,
   "metadata": {},
   "outputs": [],
   "source": [
    "# Assign variable type to each column\n",
    "variable_types = {\n",
    "    'categorical': [\n",
    "        'borough',\n",
    "        'neighborhood',\n",
    "        'building_class_category',\n",
    "        'tax_class_at_present',\n",
    "        'block',\n",
    "        'lot',\n",
    "        'easement',\n",
    "        'building_class_at_present',\n",
    "        'address',\n",
    "        'apartment_number',\n",
    "        'zip_code',\n",
    "        'tax_class_at_time_of_sale',\n",
    "        'building_class_at_time_of_sale'\n",
    "        ],\n",
    "    'numerical': [\n",
    "        'residential_units',\n",
    "        'commercial_units',\n",
    "        'total_units',\n",
    "        'land_square_feet',\n",
    "        'gross_square_feet',\n",
    "        'year_built',\n",
    "        'sale_price',\n",
    "        'location_lat',\n",
    "        'location_long'\n",
    "        ],\n",
    "    'date': [\n",
    "        'sale_date'\n",
    "        ]\n",
    "    }"
   ]
  },
  {
   "cell_type": "code",
   "execution_count": 6,
   "metadata": {},
   "outputs": [],
   "source": [
    "# Create auxiliary list for sanity checks\n",
    "auxiliary_list = [column for variable_type in variable_types.values() for column in variable_type]"
   ]
  },
  {
   "cell_type": "code",
   "execution_count": 7,
   "metadata": {},
   "outputs": [
    {
     "data": {
      "text/plain": [
       "True"
      ]
     },
     "execution_count": 7,
     "metadata": {},
     "output_type": "execute_result"
    }
   ],
   "source": [
    "# Check that all columns were only assigned one variable type\n",
    "len(auxiliary_list) == len(set(auxiliary_list))"
   ]
  },
  {
   "cell_type": "code",
   "execution_count": 8,
   "metadata": {},
   "outputs": [
    {
     "data": {
      "text/plain": [
       "True"
      ]
     },
     "execution_count": 8,
     "metadata": {},
     "output_type": "execute_result"
    }
   ],
   "source": [
    "# Check that all columns were assigned a variable type\n",
    "set(df.columns) == set(auxiliary_list)"
   ]
  },
  {
   "cell_type": "code",
   "execution_count": 9,
   "metadata": {},
   "outputs": [],
   "source": [
    "# Add variable type to data overview\n",
    "for variable_type, columns in variable_types.items():\n",
    "    for column in columns:\n",
    "        data_overview.loc[data_overview.column == column, 'variable_type'] = variable_type"
   ]
  },
  {
   "cell_type": "code",
   "execution_count": 10,
   "metadata": {},
   "outputs": [],
   "source": [
    "# Save data overview\n",
    "data_overview.to_csv('../data/raw/property-sales_new-york-city_2022_geocoded_data-overview.csv')"
   ]
  },
  {
   "cell_type": "code",
   "execution_count": 11,
   "metadata": {},
   "outputs": [],
   "source": [
    "# Calculate image size when image is cropped or resized\n",
    "# sf.get_image_size(640, 640, 16, 40)\n",
    "# 600/640\n",
    "# 0.9375 * 1171.0832153277483\n",
    "# location_lat, location_long = df.iloc[1:2].location_lat, df.iloc[1:2].location_long\n",
    "# width_m, height_m = sf.get_image_size(640, 640, 17, location_lat)\n",
    "# lat_top, lat_bottom, long_left, long_right = sf.get_image_boundaries(location_lat, location_long, width_m, height_m)"
   ]
  }
 ],
 "metadata": {
  "kernelspec": {
   "display_name": "bachelors_thesis",
   "language": "python",
   "name": "python3"
  },
  "language_info": {
   "codemirror_mode": {
    "name": "ipython",
    "version": 3
   },
   "file_extension": ".py",
   "mimetype": "text/x-python",
   "name": "python",
   "nbconvert_exporter": "python",
   "pygments_lexer": "ipython3",
   "version": "3.11.0"
  },
  "orig_nbformat": 4
 },
 "nbformat": 4,
 "nbformat_minor": 2
}
