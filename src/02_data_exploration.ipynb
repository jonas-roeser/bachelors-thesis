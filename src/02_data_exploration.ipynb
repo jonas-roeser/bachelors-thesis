{
 "cells": [
  {
   "cell_type": "code",
   "execution_count": 91,
   "metadata": {},
   "outputs": [],
   "source": [
    "import numpy as np\n",
    "import pandas as pd"
   ]
  },
  {
   "cell_type": "code",
   "execution_count": 92,
   "metadata": {},
   "outputs": [],
   "source": [
    "from geopy.geocoders import Nominatim\n",
    "\n",
    "geolocator = Nominatim(user_agent=\"G\")"
   ]
  },
  {
   "cell_type": "code",
   "execution_count": null,
   "metadata": {},
   "outputs": [],
   "source": [
    "from tqdm.auto import tqdm\n",
    "tqdm.pandas()"
   ]
  },
  {
   "cell_type": "code",
   "execution_count": 93,
   "metadata": {},
   "outputs": [],
   "source": [
    "# create function for importing dataframes\n",
    "def data_import(data, import_path='../data/'):\n",
    "    df = pd.read_excel(f'{import_path}2022_{data}.xlsx', header=6, skiprows=[7]).convert_dtypes()\n",
    "    df.columns = df.columns.str.lower().str.replace('-', '').str.replace('\\n', ' ').str.replace('\\s+', '_', regex=True)\n",
    "    return df"
   ]
  },
  {
   "cell_type": "code",
   "execution_count": 94,
   "metadata": {},
   "outputs": [],
   "source": [
    "# import dataframes\n",
    "boroughs = ['bronx', 'brooklyn', 'manhattan', 'queens', 'staten_island']\n",
    "data_dict = {}\n",
    "for borough in boroughs:\n",
    "    data_dict[borough] = data_import(borough)"
   ]
  },
  {
   "cell_type": "code",
   "execution_count": 95,
   "metadata": {},
   "outputs": [
    {
     "name": "stdout",
     "output_type": "stream",
     "text": [
      "[ True  True  True  True  True  True  True  True  True  True  True  True\n",
      "  True  True  True  True  True  True  True  True  True]\n",
      "[ True  True  True  True  True  True  True  True  True  True  True  True\n",
      "  True  True  True  True  True  True  True  True  True]\n",
      "[ True  True  True  True  True  True  True  True  True  True  True  True\n",
      "  True  True  True  True  True  True  True  True  True]\n",
      "[ True  True  True  True  True  True  True  True  True  True  True  True\n",
      "  True  True  True  True  True  True  True  True  True]\n",
      "[ True  True  True  True  True  True  True  True  True  True  True  True\n",
      "  True  True  True  True  True  True  True  True  True]\n"
     ]
    }
   ],
   "source": [
    "# check whether all dataframes have the same column names\n",
    "columns = data_dict[boroughs[0]].columns\n",
    "for borough in boroughs:\n",
    "    print(columns == data_dict[borough].columns)\n",
    "    columns = data_dict[borough].columns"
   ]
  },
  {
   "cell_type": "code",
   "execution_count": 97,
   "metadata": {},
   "outputs": [],
   "source": [
    "# concat data from all boroughs\n",
    "df = pd.concat(data_dict.values(), ignore_index=True)"
   ]
  },
  {
   "cell_type": "code",
   "execution_count": 110,
   "metadata": {},
   "outputs": [],
   "source": [
    "# drop rows without zip_code, since this is used for geolocation\n",
    "df.dropna(subset=['zip_code'], inplace=True)"
   ]
  },
  {
   "cell_type": "code",
   "execution_count": 142,
   "metadata": {},
   "outputs": [],
   "source": [
    "# get coordinates for all rows\n",
    "# df[['location_lat', 'location_long']] = df.apply(\n",
    "#     lambda x: geolocator.geocode({'street': x['address'], 'postalcode': x['zip_code'], 'country': 'US'}), axis=1).apply(\n",
    "#     lambda x: pd.Series([x.latitude, x.longitude], index=['location_lat', 'location_long'])\n",
    "#     )"
   ]
  }
 ],
 "metadata": {
  "kernelspec": {
   "display_name": "bachelors_thesis",
   "language": "python",
   "name": "python3"
  },
  "language_info": {
   "codemirror_mode": {
    "name": "ipython",
    "version": 3
   },
   "file_extension": ".py",
   "mimetype": "text/x-python",
   "name": "python",
   "nbconvert_exporter": "python",
   "pygments_lexer": "ipython3",
   "version": "3.11.0"
  },
  "orig_nbformat": 4
 },
 "nbformat": 4,
 "nbformat_minor": 2
}
