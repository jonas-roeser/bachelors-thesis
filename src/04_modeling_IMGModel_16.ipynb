{
 "cells": [
  {
   "cell_type": "code",
   "execution_count": 1,
   "metadata": {},
   "outputs": [],
   "source": [
    "# Load packages\n",
    "import numpy as np\n",
    "import pandas as pd\n",
    "import torch\n",
    "from torch import nn, optim\n",
    "from torch.utils.data import DataLoader\n",
    "from torchvision import transforms\n",
    "from torchvision.models import inception_v3, Inception_V3_Weights\n",
    "from sklearn.preprocessing import StandardScaler, MinMaxScaler\n",
    "from category_encoders import OrdinalEncoder, OneHotEncoder, TargetEncoder\n",
    "from sklearn.impute import SimpleImputer\n",
    "from pathlib import Path\n",
    "import shared_functions as sf"
   ]
  },
  {
   "cell_type": "code",
   "execution_count": 2,
   "metadata": {},
   "outputs": [],
   "source": [
    "# Define model & file name\n",
    "model_name = 'IMGModel_16'\n",
    "file_name = 'property-sales_new-york-city_2022_image-classes'"
   ]
  },
  {
   "cell_type": "code",
   "execution_count": 3,
   "metadata": {},
   "outputs": [],
   "source": [
    "# Create output directory for exports\n",
    "Path(f'../models/{model_name}').mkdir(parents=True, exist_ok=True)"
   ]
  },
  {
   "cell_type": "code",
   "execution_count": 4,
   "metadata": {},
   "outputs": [],
   "source": [
    "# Load subset keys as list\n",
    "subset_keys = pd.read_csv(f'../data/processed/subset_keys_image_class.csv').squeeze().to_list()"
   ]
  },
  {
   "cell_type": "code",
   "execution_count": 5,
   "metadata": {},
   "outputs": [],
   "source": [
    "# Load subset index as series\n",
    "subset_index = pd.read_csv(f'../data/processed/subset_index_image_class.csv', index_col=0)"
   ]
  },
  {
   "cell_type": "code",
   "execution_count": 6,
   "metadata": {},
   "outputs": [
    {
     "name": "stdout",
     "output_type": "stream",
     "text": [
      "Device type: CPU\n"
     ]
    }
   ],
   "source": [
    "# Use GPU when possible\n",
    "device = torch.device('cuda' if torch.cuda.is_available() else 'cpu').type\n",
    "print(f'Device type: {device.upper()}')"
   ]
  },
  {
   "cell_type": "code",
   "execution_count": 7,
   "metadata": {},
   "outputs": [],
   "source": [
    "# Set random seed\n",
    "seed = 42\n",
    "np.random.seed(seed)\n",
    "torch.manual_seed(seed)\n",
    "torch.cuda.manual_seed(seed)"
   ]
  },
  {
   "cell_type": "code",
   "execution_count": 8,
   "metadata": {},
   "outputs": [],
   "source": [
    "dataset_params = {\n",
    "    'data': f'../data/processed/{file_name}.parquet',\n",
    "    'target_name': 'price_class',\n",
    "    'image_directory': '../data/raw/satellite-images_new-york-city_2022_640x640_16/',\n",
    "    'image_transformation': transforms.Compose([\n",
    "        transforms.CenterCrop((600, 600)), # crop image borders by margin of 20px to remove text from 640x640\n",
    "        transforms.Resize((299, 299)), # resize image to 299x299\n",
    "        transforms.ToTensor(),  # convert image to PyTorch tensor\n",
    "        transforms.Normalize(mean=[0.485, 0.456, 0.406], std=[0.229, 0.224, 0.225]) # noarmlize based on ImageNet data\n",
    "        ]),\n",
    "    'subset_index': '../data/processed/subset_index_image_class.csv'\n",
    "    }"
   ]
  },
  {
   "cell_type": "code",
   "execution_count": 9,
   "metadata": {},
   "outputs": [],
   "source": [
    "# Instantiate datasets\n",
    "subsets = {subset_key: sf.MultiModalDataset(**dataset_params, subset=subset_key) for subset_key in subset_keys}\n",
    "dataset = sf.MultiModalDataset(**dataset_params)"
   ]
  },
  {
   "cell_type": "code",
   "execution_count": 10,
   "metadata": {},
   "outputs": [],
   "source": [
    "# Define model architecture\n",
    "class IMGModel_16(nn.Module):\n",
    "    # Define model components\n",
    "    def __init__(self):\n",
    "        super().__init__()\n",
    "        \n",
    "        # Define image model\n",
    "        self.ImageModel = inception_v3(weights=Inception_V3_Weights.DEFAULT)\n",
    "        self.ImageModel.aux_logits = False\n",
    "        for parameter in self.ImageModel.parameters():\n",
    "            parameter.requires_grad = False\n",
    "        self.ImageModel.fc = nn.Linear(self.ImageModel.fc.in_features, 2)\n",
    "    \n",
    "    # Define forward pass\n",
    "    def forward(self, X_text, X_image):\n",
    "        y = self.ImageModel(X_image)\n",
    "        return y"
   ]
  },
  {
   "cell_type": "code",
   "execution_count": 11,
   "metadata": {},
   "outputs": [],
   "source": [
    "# Instantiate model\n",
    "model = IMGModel_16().to(device)"
   ]
  },
  {
   "cell_type": "code",
   "execution_count": 12,
   "metadata": {},
   "outputs": [
    {
     "name": "stdout",
     "output_type": "stream",
     "text": [
      "# model paramters: 25116362\n"
     ]
    }
   ],
   "source": [
    "# Calculate number of model parameters\n",
    "n_params = sum(parameter.numel() for parameter in model.parameters())\n",
    "print(f'# model paramters: {n_params}')"
   ]
  },
  {
   "cell_type": "code",
   "execution_count": 13,
   "metadata": {},
   "outputs": [
    {
     "name": "stderr",
     "output_type": "stream",
     "text": [
      "  0%|          | 0/17 [00:43<?, ?it/s]\n"
     ]
    }
   ],
   "source": [
    "# Do not train if already trained\n",
    "if Path(f'../models/{model_name}/state_dict.pt').is_file() and Path(f'../models/{model_name}/history.csv').is_file():\n",
    "    # Load optimal weights and history\n",
    "    model.load_state_dict(torch.load(f'../models/{model_name}/state_dict.pt', map_location='cpu'))\n",
    "    history = pd.read_csv(f'../models/{model_name}/history.csv', index_col=0)\n",
    "    print('Skipping training and loading optimal weights from previous training!')\n",
    "else:\n",
    "    # Train model\n",
    "    model, history = sf.train_image_model(\n",
    "        model=model,\n",
    "        dataset_train=subsets['train'],\n",
    "        dataset_val=subsets['val'],\n",
    "\n",
    "        # Define loss & optimizer\n",
    "        loss_function=nn.CrossEntropyLoss().to(device),\n",
    "        optimizer=optim.SGD(model.parameters(), lr=0.01, momentum=0.9),\n",
    "\n",
    "        # Define computing device\n",
    "        device=device,\n",
    "\n",
    "        # Define training parameters\n",
    "        epochs=50,\n",
    "        patience=50,\n",
    "        delta=0,\n",
    "        batch_size=1024,\n",
    "        shuffle=True,\n",
    "        num_workers=8,\n",
    "        pin_memory=True,\n",
    "\n",
    "        # Define save locations\n",
    "        save_state_dict_as=f'../models/{model_name}/state_dict.pt',\n",
    "        save_history_as=f'../models/{model_name}/history.csv'\n",
    "        )"
   ]
  }
 ],
 "metadata": {
  "kernelspec": {
   "display_name": "Python 3",
   "language": "python",
   "name": "python3"
  },
  "language_info": {
   "codemirror_mode": {
    "name": "ipython",
    "version": 3
   },
   "file_extension": ".py",
   "mimetype": "text/x-python",
   "name": "python",
   "nbconvert_exporter": "python",
   "pygments_lexer": "ipython3",
   "version": "3.11.0"
  }
 },
 "nbformat": 4,
 "nbformat_minor": 2
}
