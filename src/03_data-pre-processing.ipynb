{
 "cells": [
  {
   "cell_type": "code",
   "execution_count": 217,
   "metadata": {},
   "outputs": [],
   "source": [
    "# Load packages\n",
    "import numpy as np\n",
    "import pandas as pd"
   ]
  },
  {
   "cell_type": "code",
   "execution_count": 218,
   "metadata": {},
   "outputs": [],
   "source": [
    "# Define file path and file name\n",
    "import_path = '../data/raw/'\n",
    "export_path = '../data/processed/'\n",
    "file_name = 'property-sales_new-york-city_2022'\n"
   ]
  },
  {
   "cell_type": "code",
   "execution_count": 219,
   "metadata": {},
   "outputs": [],
   "source": [
    "# Load data\n",
    "df = pd.read_parquet(f'{import_path}{file_name}_geocoded.parquet')"
   ]
  },
  {
   "cell_type": "code",
   "execution_count": null,
   "metadata": {},
   "outputs": [],
   "source": [
    "# location_lat, location_long = df.iloc[1:2].location_lat, df.iloc[1:2].location_long\n",
    "# width_m, height_m = sf.get_image_size(640, 640, 17, location_lat)\n",
    "# lat_top, lat_bottom, long_left, long_right = sf.get_image_boundaries(location_lat, location_long, width_m, height_m)"
   ]
  },
  {
   "cell_type": "code",
   "execution_count": 220,
   "metadata": {},
   "outputs": [],
   "source": [
    "# Drop columns with many NAs\n",
    "df.drop(['easement', 'apartment_number'], axis=1, inplace=True)"
   ]
  },
  {
   "cell_type": "code",
   "execution_count": 221,
   "metadata": {},
   "outputs": [],
   "source": [
    "# Drop all rows with NAs\n",
    "df.dropna(inplace=True)"
   ]
  },
  {
   "cell_type": "code",
   "execution_count": 222,
   "metadata": {},
   "outputs": [],
   "source": [
    "# Move sale price column to the front\n",
    "col = df.pop('sale_price')\n",
    "df.insert(0, col.name, col)"
   ]
  },
  {
   "cell_type": "code",
   "execution_count": 223,
   "metadata": {},
   "outputs": [],
   "source": [
    "# Transform dates into timestamps\n",
    "df.year_built = pd.to_datetime(df.year_built.astype(str)).astype(int) / 10**9\n",
    "df.sale_date = df.sale_date.astype(int) / 10**9"
   ]
  },
  {
   "cell_type": "code",
   "execution_count": 224,
   "metadata": {},
   "outputs": [],
   "source": [
    "# Change dtype to object for all categorical features\n",
    "df = df.astype('object')\n",
    "non_object_cols = [\n",
    "    'sale_price', 'residential_units', 'commercial_units', 'total_units', 'land_square_feet', 'gross_square_feet', 'year_built', 'sale_date', 'location_lat', 'location_long'\n",
    "    ]\n",
    "df[non_object_cols] = df[non_object_cols].convert_dtypes()"
   ]
  },
  {
   "cell_type": "code",
   "execution_count": 225,
   "metadata": {},
   "outputs": [],
   "source": [
    "# Drop categorical features with too many categories for hot encoding\n",
    "df.drop(['address', 'block'], axis=1, inplace=True)"
   ]
  },
  {
   "cell_type": "code",
   "execution_count": 226,
   "metadata": {},
   "outputs": [
    {
     "data": {
      "text/plain": [
       "sale_price                          Int64\n",
       "borough                            object\n",
       "neighborhood                       object\n",
       "building_class_category            object\n",
       "tax_class_at_present               object\n",
       "lot                                object\n",
       "building_class_at_present          object\n",
       "zip_code                           object\n",
       "residential_units                   Int64\n",
       "commercial_units                    Int64\n",
       "total_units                         Int64\n",
       "land_square_feet                    Int64\n",
       "gross_square_feet                   Int64\n",
       "year_built                          Int64\n",
       "tax_class_at_time_of_sale          object\n",
       "building_class_at_time_of_sale     object\n",
       "sale_date                           Int64\n",
       "location_lat                      Float64\n",
       "location_long                     Float64\n",
       "dtype: object"
      ]
     },
     "execution_count": 226,
     "metadata": {},
     "output_type": "execute_result"
    }
   ],
   "source": [
    "df.dtypes"
   ]
  },
  {
   "cell_type": "code",
   "execution_count": 227,
   "metadata": {},
   "outputs": [
    {
     "name": "stderr",
     "output_type": "stream",
     "text": [
      "/var/folders/yy/mhv_3l3d5_scbfgt2qmjg7800000gn/T/ipykernel_56761/3497569524.py:2: FutureWarning: In a future version, the Index constructor will not infer numeric dtypes when passed object-dtype sequences (matching Series behavior)\n",
      "  df = pd.get_dummies(df)\n",
      "/var/folders/yy/mhv_3l3d5_scbfgt2qmjg7800000gn/T/ipykernel_56761/3497569524.py:2: FutureWarning: In a future version, the Index constructor will not infer numeric dtypes when passed object-dtype sequences (matching Series behavior)\n",
      "  df = pd.get_dummies(df)\n",
      "/var/folders/yy/mhv_3l3d5_scbfgt2qmjg7800000gn/T/ipykernel_56761/3497569524.py:2: FutureWarning: In a future version, the Index constructor will not infer numeric dtypes when passed object-dtype sequences (matching Series behavior)\n",
      "  df = pd.get_dummies(df)\n",
      "/var/folders/yy/mhv_3l3d5_scbfgt2qmjg7800000gn/T/ipykernel_56761/3497569524.py:2: FutureWarning: In a future version, the Index constructor will not infer numeric dtypes when passed object-dtype sequences (matching Series behavior)\n",
      "  df = pd.get_dummies(df)\n"
     ]
    }
   ],
   "source": [
    "# Hot eoncode categorical variables\n",
    "df = pd.get_dummies(df)"
   ]
  },
  {
   "cell_type": "code",
   "execution_count": 228,
   "metadata": {},
   "outputs": [
    {
     "data": {
      "text/plain": [
       "66.572523"
      ]
     },
     "execution_count": 228,
     "metadata": {},
     "output_type": "execute_result"
    }
   ],
   "source": [
    "df.memory_usage().sum() / 10**6"
   ]
  },
  {
   "cell_type": "code",
   "execution_count": 229,
   "metadata": {},
   "outputs": [],
   "source": [
    "# Filter out sales of 0\n",
    "df = df[df.sale_price != 0]"
   ]
  },
  {
   "cell_type": "code",
   "execution_count": 230,
   "metadata": {},
   "outputs": [],
   "source": [
    "# Save preprocessed data\n",
    "df.to_csv(f'{export_path}{file_name}_processed.csv')\n",
    "df.to_parquet(f'{export_path}{file_name}_processed.parquet')"
   ]
  }
 ],
 "metadata": {
  "kernelspec": {
   "display_name": "bachelors_thesis",
   "language": "python",
   "name": "python3"
  },
  "language_info": {
   "codemirror_mode": {
    "name": "ipython",
    "version": 3
   },
   "file_extension": ".py",
   "mimetype": "text/x-python",
   "name": "python",
   "nbconvert_exporter": "python",
   "pygments_lexer": "ipython3",
   "version": "3.11.0"
  },
  "orig_nbformat": 4
 },
 "nbformat": 4,
 "nbformat_minor": 2
}
